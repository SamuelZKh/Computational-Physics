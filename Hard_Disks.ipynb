{
 "cells": [
  {
   "cell_type": "code",
   "execution_count": 1,
   "metadata": {
    "executionInfo": {
     "elapsed": 5652,
     "status": "ok",
     "timestamp": 1609987285386,
     "user": {
      "displayName": "Dhruv Tiwari",
      "photoUrl": "",
      "userId": "03711006785105947585"
     },
     "user_tz": -330
    },
    "id": "TNYpJfHpO2VI"
   },
   "outputs": [],
   "source": [
    "import numpy as np\n",
    "import matplotlib.pyplot as plt\n",
    "import math\n",
    "%matplotlib inline"
   ]
  },
  {
   "cell_type": "code",
   "execution_count": 2,
   "metadata": {
    "executionInfo": {
     "elapsed": 5649,
     "status": "ok",
     "timestamp": 1609987285387,
     "user": {
      "displayName": "Dhruv Tiwari",
      "photoUrl": "",
      "userId": "03711006785105947585"
     },
     "user_tz": -330
    },
    "id": "lXMCBRYOO2Vf"
   },
   "outputs": [],
   "source": [
    "#####  Function to compute time for wall collision ######\n",
    "def wall_time(coord, velcomp, rad):  \n",
    "    if velcomp > 0.0:\n",
    "        del_t = (1.0 - rad - coord) / velcomp\n",
    "    elif velcomp < 0.0:\n",
    "        del_t = (coord - rad) / abs(velcomp)\n",
    "    else:\n",
    "        del_t = float('inf')\n",
    "    return del_t\n",
    "\n",
    "\n",
    "# Function to calculate time it takes for a pair of particles to collide. \n",
    "# pos1 and pos2 are positions of particles 1 and 2, vel1 and vel2 are their \n",
    "# velocities. rad is the radius of the particles. \n",
    "def pair_time(pos1, vel1, pos2, vel2, rad):  \n",
    "    rel_pos = pos2 - pos1\n",
    "    rel_vel = vel2 - vel1\n",
    "    rel_dist_squar = np.dot(rel_pos,rel_pos)\n",
    "    rel_speed_squar = np.dot(rel_vel,rel_vel)\n",
    "    scal_prod = np.dot(rel_pos,rel_vel)\n",
    "    a = scal_prod ** 2 - rel_speed_squar * ( rel_dist_squar - 4.0 * rad **2)\n",
    "    if a > 0.0 and scal_prod < 0.0: ## Conditions for collision.\n",
    "        del_t = - (scal_prod + np.sqrt(a)) / rel_speed_squar ## Collision time.\n",
    "    else:\n",
    "        del_t = float('inf')\n",
    "    return del_t\n",
    "\n",
    "\n",
    "# Function to generate an image of the disk configuration in the box.\n",
    "def create_picture(positions):\n",
    "    plt.cla()\n",
    "    plt.gca().set_aspect('equal')\n",
    "    plt.axis([0, L, 0, L])\n",
    "    plt.setp(plt.gca(), xticks=[0, L], yticks=[0, L])\n",
    "    for x,y in positions:\n",
    "        atom = plt.Circle((x, y), Ratom, fc='r')\n",
    "        plt.gca().add_patch(atom)\n",
    "    "
   ]
  },
  {
   "cell_type": "code",
   "execution_count": 3,
   "metadata": {
    "executionInfo": {
     "elapsed": 5646,
     "status": "ok",
     "timestamp": 1609987285388,
     "user": {
      "displayName": "Dhruv Tiwari",
      "photoUrl": "",
      "userId": "03711006785105947585"
     },
     "user_tz": -330
    },
    "id": "IAUP29Y8O2Vh"
   },
   "outputs": [
    {
     "name": "stdout",
     "output_type": "stream",
     "text": [
      "[[0, 1], [0, 2], [0, 3], [1, 2], [1, 3], [2, 3]]\n"
     ]
    }
   ],
   "source": [
    "######################### Initialization #################################\n",
    "L = 1. ## Box edge length\n",
    "Natoms = 4  # Number of disks\n",
    "density = 0.2 # Fraction of the area of the box covered by the disks\n",
    "Ratom = np.sqrt(density/(Natoms*np.pi))   ## Radius of disk.\n",
    "\n",
    "## List indexing all pairs of atoms.\n",
    "pairs = [[i,j] for i in range(Natoms) for j in range(i+1, Natoms)] \n",
    "\n",
    "## Positions and velocities of disks.\n",
    "\n",
    "\n",
    "print(pairs)\n",
    "#################################################################################"
   ]
  },
  {
   "cell_type": "code",
   "execution_count": 47,
   "metadata": {
    "executionInfo": {
     "elapsed": 5643,
     "status": "ok",
     "timestamp": 1609987285389,
     "user": {
      "displayName": "Dhruv Tiwari",
      "photoUrl": "",
      "userId": "03711006785105947585"
     },
     "user_tz": -330
    },
    "id": "Q8bNF8kuO2Vj"
   },
   "outputs": [
    {
     "name": "stdout",
     "output_type": "stream",
     "text": [
      "[0, 0, 0, 0, 0, 0, 0, 0, 0, 0, 0, 0, 0, 0, 0, 0, array([0.38692169, 0.4       ]), array([0.38692169, 0.58692169]), array([0.6       , 0.38692169]), array([0.6, 0.6])]\n",
      "[0, 0, 0, 0, 0, 0, 0, 0, 0, 0, 0, 0, 0, 0, 0, 0, array([0.37384337, 0.4       ]), array([0.37384337, 0.57384337]), array([0.6       , 0.37384337]), array([0.6, 0.6]), array([0.37384337, 0.4       ]), array([0.37384337, 0.57384337]), array([0.6       , 0.37384337]), array([0.6, 0.6])]\n",
      "[0, 0, 0, 0, 0, 0, 0, 0, 0, 0, 0, 0, 0, 0, 0, 0, array([0.36076506, 0.4       ]), array([0.36076506, 0.56076506]), array([0.6       , 0.36076506]), array([0.6, 0.6]), array([0.36076506, 0.4       ]), array([0.36076506, 0.56076506]), array([0.6       , 0.36076506]), array([0.6, 0.6]), array([0.36076506, 0.4       ]), array([0.36076506, 0.56076506]), array([0.6       , 0.36076506]), array([0.6, 0.6])]\n",
      "[0, 0, 0, 0, 0, 0, 0, 0, 0, 0, 0, 0, 0, 0, 0, 0, array([0.34768675, 0.4       ]), array([0.34768675, 0.54768675]), array([0.6       , 0.34768675]), array([0.6, 0.6]), array([0.34768675, 0.4       ]), array([0.34768675, 0.54768675]), array([0.6       , 0.34768675]), array([0.6, 0.6]), array([0.34768675, 0.4       ]), array([0.34768675, 0.54768675]), array([0.6       , 0.34768675]), array([0.6, 0.6]), array([0.34768675, 0.4       ]), array([0.34768675, 0.54768675]), array([0.6       , 0.34768675]), array([0.6, 0.6])]\n",
      "[0, 0, 0, 0, 0, 0, 0, 0, 0, 0, 0, 0, 0, 0, 0, 0, array([0.34905743, 0.4       ]), array([0.34905743, 0.54905743]), array([0.6       , 0.34768675]), array([0.6       , 0.60137069]), array([0.34905743, 0.4       ]), array([0.34905743, 0.54905743]), array([0.6       , 0.34768675]), array([0.6       , 0.60137069]), array([0.34905743, 0.4       ]), array([0.34905743, 0.54905743]), array([0.6       , 0.34768675]), array([0.6       , 0.60137069]), array([0.34905743, 0.4       ]), array([0.34905743, 0.54905743]), array([0.6       , 0.34768675]), array([0.6       , 0.60137069]), array([0.34905743, 0.4       ]), array([0.34905743, 0.54905743]), array([0.6       , 0.34768675]), array([0.6       , 0.60137069])]\n",
      "[0, 0, 0, 0, 0, 0, 0, 0, 0, 0, 0, 0, 0, 0, 0, 0, array([0.35042812, 0.4       ]), array([0.35042812, 0.55042812]), array([0.6       , 0.34768675]), array([0.6       , 0.60274137]), array([0.35042812, 0.4       ]), array([0.35042812, 0.55042812]), array([0.6       , 0.34768675]), array([0.6       , 0.60274137]), array([0.35042812, 0.4       ]), array([0.35042812, 0.55042812]), array([0.6       , 0.34768675]), array([0.6       , 0.60274137]), array([0.35042812, 0.4       ]), array([0.35042812, 0.55042812]), array([0.6       , 0.34768675]), array([0.6       , 0.60274137]), array([0.35042812, 0.4       ]), array([0.35042812, 0.55042812]), array([0.6       , 0.34768675]), array([0.6       , 0.60274137]), array([0.35042812, 0.4       ]), array([0.35042812, 0.55042812]), array([0.6       , 0.34768675]), array([0.6       , 0.60274137])]\n",
      "[0, 0, 0, 0, 0, 0, 0, 0, 0, 0, 0, 0, 0, 0, 0, 0, array([0.3517988, 0.4      ]), array([0.3517988, 0.5517988]), array([0.6       , 0.34768675]), array([0.6       , 0.60411206]), array([0.3517988, 0.4      ]), array([0.3517988, 0.5517988]), array([0.6       , 0.34768675]), array([0.6       , 0.60411206]), array([0.3517988, 0.4      ]), array([0.3517988, 0.5517988]), array([0.6       , 0.34768675]), array([0.6       , 0.60411206]), array([0.3517988, 0.4      ]), array([0.3517988, 0.5517988]), array([0.6       , 0.34768675]), array([0.6       , 0.60411206]), array([0.3517988, 0.4      ]), array([0.3517988, 0.5517988]), array([0.6       , 0.34768675]), array([0.6       , 0.60411206]), array([0.3517988, 0.4      ]), array([0.3517988, 0.5517988]), array([0.6       , 0.34768675]), array([0.6       , 0.60411206]), array([0.3517988, 0.4      ]), array([0.3517988, 0.5517988]), array([0.6       , 0.34768675]), array([0.6       , 0.60411206])]\n",
      "[0, 0, 0, 0, 0, 0, 0, 0, 0, 0, 0, 0, 0, 0, 0, 0, array([0.35316949, 0.4       ]), array([0.35316949, 0.55316949]), array([0.6       , 0.34768675]), array([0.6       , 0.60548274]), array([0.35316949, 0.4       ]), array([0.35316949, 0.55316949]), array([0.6       , 0.34768675]), array([0.6       , 0.60548274]), array([0.35316949, 0.4       ]), array([0.35316949, 0.55316949]), array([0.6       , 0.34768675]), array([0.6       , 0.60548274]), array([0.35316949, 0.4       ]), array([0.35316949, 0.55316949]), array([0.6       , 0.34768675]), array([0.6       , 0.60548274]), array([0.35316949, 0.4       ]), array([0.35316949, 0.55316949]), array([0.6       , 0.34768675]), array([0.6       , 0.60548274]), array([0.35316949, 0.4       ]), array([0.35316949, 0.55316949]), array([0.6       , 0.34768675]), array([0.6       , 0.60548274]), array([0.35316949, 0.4       ]), array([0.35316949, 0.55316949]), array([0.6       , 0.34768675]), array([0.6       , 0.60548274]), array([0.35316949, 0.4       ]), array([0.35316949, 0.55316949]), array([0.6       , 0.34768675]), array([0.6       , 0.60548274])]\n",
      "[0, 0, 0, 0, 0, 0, 0, 0, 0, 0, 0, 0, 0, 0, 0, 0, array([0.35316949, 0.4       ]), array([0.35316949, 0.55316949]), array([0.6       , 0.34768675]), array([0.6       , 0.60548274]), array([0.35316949, 0.4       ]), array([0.35316949, 0.55316949]), array([0.6       , 0.34768675]), array([0.6       , 0.60548274]), array([0.35316949, 0.4       ]), array([0.35316949, 0.55316949]), array([0.6       , 0.34768675]), array([0.6       , 0.60548274]), array([0.35316949, 0.4       ]), array([0.35316949, 0.55316949]), array([0.6       , 0.34768675]), array([0.6       , 0.60548274]), array([0.35316949, 0.4       ]), array([0.35316949, 0.55316949]), array([0.6       , 0.34768675]), array([0.6       , 0.60548274]), array([0.35316949, 0.4       ]), array([0.35316949, 0.55316949]), array([0.6       , 0.34768675]), array([0.6       , 0.60548274]), array([0.35316949, 0.4       ]), array([0.35316949, 0.55316949]), array([0.6       , 0.34768675]), array([0.6       , 0.60548274]), array([0.35316949, 0.4       ]), array([0.35316949, 0.55316949]), array([0.6       , 0.34768675]), array([0.6       , 0.60548274]), array([0.35316949, 0.4       ]), array([0.35316949, 0.55316949]), array([0.6       , 0.34768675]), array([0.6       , 0.60548274])]\n",
      "[0, 0, 0, 0, 0, 0, 0, 0, 0, 0, 0, 0, 0, 0, 0, 0, array([0.35316949, 0.4       ]), array([0.35316949, 0.55316949]), array([0.6       , 0.34768675]), array([0.6       , 0.60548274]), array([0.35316949, 0.4       ]), array([0.35316949, 0.55316949]), array([0.6       , 0.34768675]), array([0.6       , 0.60548274]), array([0.35316949, 0.4       ]), array([0.35316949, 0.55316949]), array([0.6       , 0.34768675]), array([0.6       , 0.60548274]), array([0.35316949, 0.4       ]), array([0.35316949, 0.55316949]), array([0.6       , 0.34768675]), array([0.6       , 0.60548274]), array([0.35316949, 0.4       ]), array([0.35316949, 0.55316949]), array([0.6       , 0.34768675]), array([0.6       , 0.60548274]), array([0.35316949, 0.4       ]), array([0.35316949, 0.55316949]), array([0.6       , 0.34768675]), array([0.6       , 0.60548274]), array([0.35316949, 0.4       ]), array([0.35316949, 0.55316949]), array([0.6       , 0.34768675]), array([0.6       , 0.60548274]), array([0.35316949, 0.4       ]), array([0.35316949, 0.55316949]), array([0.6       , 0.34768675]), array([0.6       , 0.60548274]), array([0.35316949, 0.4       ]), array([0.35316949, 0.55316949]), array([0.6       , 0.34768675]), array([0.6       , 0.60548274]), array([0.35316949, 0.4       ]), array([0.35316949, 0.55316949]), array([0.6       , 0.34768675]), array([0.6       , 0.60548274])]\n",
      "[0, 0, 0, 0, 0, 0, 0, 0, 0, 0, 0, 0, 0, 0, 0, 0, array([0.35316949, 0.4       ]), array([0.35316949, 0.55316949]), array([0.6       , 0.34768675]), array([0.6       , 0.60548274]), array([0.35316949, 0.4       ]), array([0.35316949, 0.55316949]), array([0.6       , 0.34768675]), array([0.6       , 0.60548274]), array([0.35316949, 0.4       ]), array([0.35316949, 0.55316949]), array([0.6       , 0.34768675]), array([0.6       , 0.60548274]), array([0.35316949, 0.4       ]), array([0.35316949, 0.55316949]), array([0.6       , 0.34768675]), array([0.6       , 0.60548274]), array([0.35316949, 0.4       ]), array([0.35316949, 0.55316949]), array([0.6       , 0.34768675]), array([0.6       , 0.60548274]), array([0.35316949, 0.4       ]), array([0.35316949, 0.55316949]), array([0.6       , 0.34768675]), array([0.6       , 0.60548274]), array([0.35316949, 0.4       ]), array([0.35316949, 0.55316949]), array([0.6       , 0.34768675]), array([0.6       , 0.60548274]), array([0.35316949, 0.4       ]), array([0.35316949, 0.55316949]), array([0.6       , 0.34768675]), array([0.6       , 0.60548274]), array([0.35316949, 0.4       ]), array([0.35316949, 0.55316949]), array([0.6       , 0.34768675]), array([0.6       , 0.60548274]), array([0.35316949, 0.4       ]), array([0.35316949, 0.55316949]), array([0.6       , 0.34768675]), array([0.6       , 0.60548274]), array([0.35316949, 0.4       ]), array([0.35316949, 0.55316949]), array([0.6       , 0.34768675]), array([0.6       , 0.60548274])]\n",
      "[0, 0, 0, 0, 0, 0, 0, 0, 0, 0, 0, 0, 0, 0, 0, 0, array([0.35316949, 0.4       ]), array([0.35316949, 0.55316949]), array([0.6       , 0.34768675]), array([0.6       , 0.60548274]), array([0.35316949, 0.4       ]), array([0.35316949, 0.55316949]), array([0.6       , 0.34768675]), array([0.6       , 0.60548274]), array([0.35316949, 0.4       ]), array([0.35316949, 0.55316949]), array([0.6       , 0.34768675]), array([0.6       , 0.60548274]), array([0.35316949, 0.4       ]), array([0.35316949, 0.55316949]), array([0.6       , 0.34768675]), array([0.6       , 0.60548274]), array([0.35316949, 0.4       ]), array([0.35316949, 0.55316949]), array([0.6       , 0.34768675]), array([0.6       , 0.60548274]), array([0.35316949, 0.4       ]), array([0.35316949, 0.55316949]), array([0.6       , 0.34768675]), array([0.6       , 0.60548274]), array([0.35316949, 0.4       ]), array([0.35316949, 0.55316949]), array([0.6       , 0.34768675]), array([0.6       , 0.60548274]), array([0.35316949, 0.4       ]), array([0.35316949, 0.55316949]), array([0.6       , 0.34768675]), array([0.6       , 0.60548274]), array([0.35316949, 0.4       ]), array([0.35316949, 0.55316949]), array([0.6       , 0.34768675]), array([0.6       , 0.60548274]), array([0.35316949, 0.4       ]), array([0.35316949, 0.55316949]), array([0.6       , 0.34768675]), array([0.6       , 0.60548274]), array([0.35316949, 0.4       ]), array([0.35316949, 0.55316949]), array([0.6       , 0.34768675]), array([0.6       , 0.60548274]), array([0.35316949, 0.4       ]), array([0.35316949, 0.55316949]), array([0.6       , 0.34768675]), array([0.6       , 0.60548274])]\n",
      "[0, 0, 0, 0, 0, 0, 0, 0, 0, 0, 0, 0, 0, 0, 0, 0, array([0.35556721, 0.4113132 ]), array([0.35556721, 0.59763326]), array([0.65337924, 0.33637355]), array([0.65337924, 0.6725729 ]), array([0.35556721, 0.4113132 ]), array([0.35556721, 0.59763326]), array([0.65337924, 0.33637355]), array([0.65337924, 0.6725729 ]), array([0.35556721, 0.4113132 ]), array([0.35556721, 0.59763326]), array([0.65337924, 0.33637355]), array([0.65337924, 0.6725729 ]), array([0.35556721, 0.4113132 ]), array([0.35556721, 0.59763326]), array([0.65337924, 0.33637355]), array([0.65337924, 0.6725729 ]), array([0.35556721, 0.4113132 ]), array([0.35556721, 0.59763326]), array([0.65337924, 0.33637355]), array([0.65337924, 0.6725729 ]), array([0.35556721, 0.4113132 ]), array([0.35556721, 0.59763326]), array([0.65337924, 0.33637355]), array([0.65337924, 0.6725729 ]), array([0.35556721, 0.4113132 ]), array([0.35556721, 0.59763326]), array([0.65337924, 0.33637355]), array([0.65337924, 0.6725729 ]), array([0.35556721, 0.4113132 ]), array([0.35556721, 0.59763326]), array([0.65337924, 0.33637355]), array([0.65337924, 0.6725729 ]), array([0.35556721, 0.4113132 ]), array([0.35556721, 0.59763326]), array([0.65337924, 0.33637355]), array([0.65337924, 0.6725729 ]), array([0.35556721, 0.4113132 ]), array([0.35556721, 0.59763326]), array([0.65337924, 0.33637355]), array([0.65337924, 0.6725729 ]), array([0.35556721, 0.4113132 ]), array([0.35556721, 0.59763326]), array([0.65337924, 0.33637355]), array([0.65337924, 0.6725729 ]), array([0.35556721, 0.4113132 ]), array([0.35556721, 0.59763326]), array([0.65337924, 0.33637355]), array([0.65337924, 0.6725729 ]), array([0.35556721, 0.4113132 ]), array([0.35556721, 0.59763326]), array([0.65337924, 0.33637355]), array([0.65337924, 0.6725729 ])]\n",
      "[0, 0, 0, 0, 0, 0, 0, 0, 0, 0, 0, 0, 0, 0, 0, 0, array([0.35796493, 0.42262639]), array([0.35796493, 0.64209702]), array([0.70675849, 0.32506036]), array([0.70675849, 0.73966306]), array([0.35796493, 0.42262639]), array([0.35796493, 0.64209702]), array([0.70675849, 0.32506036]), array([0.70675849, 0.73966306]), array([0.35796493, 0.42262639]), array([0.35796493, 0.64209702]), array([0.70675849, 0.32506036]), array([0.70675849, 0.73966306]), array([0.35796493, 0.42262639]), array([0.35796493, 0.64209702]), array([0.70675849, 0.32506036]), array([0.70675849, 0.73966306]), array([0.35796493, 0.42262639]), array([0.35796493, 0.64209702]), array([0.70675849, 0.32506036]), array([0.70675849, 0.73966306]), array([0.35796493, 0.42262639]), array([0.35796493, 0.64209702]), array([0.70675849, 0.32506036]), array([0.70675849, 0.73966306]), array([0.35796493, 0.42262639]), array([0.35796493, 0.64209702]), array([0.70675849, 0.32506036]), array([0.70675849, 0.73966306]), array([0.35796493, 0.42262639]), array([0.35796493, 0.64209702]), array([0.70675849, 0.32506036]), array([0.70675849, 0.73966306]), array([0.35796493, 0.42262639]), array([0.35796493, 0.64209702]), array([0.70675849, 0.32506036]), array([0.70675849, 0.73966306]), array([0.35796493, 0.42262639]), array([0.35796493, 0.64209702]), array([0.70675849, 0.32506036]), array([0.70675849, 0.73966306]), array([0.35796493, 0.42262639]), array([0.35796493, 0.64209702]), array([0.70675849, 0.32506036]), array([0.70675849, 0.73966306]), array([0.35796493, 0.42262639]), array([0.35796493, 0.64209702]), array([0.70675849, 0.32506036]), array([0.70675849, 0.73966306]), array([0.35796493, 0.42262639]), array([0.35796493, 0.64209702]), array([0.70675849, 0.32506036]), array([0.70675849, 0.73966306]), array([0.35796493, 0.42262639]), array([0.35796493, 0.64209702]), array([0.70675849, 0.32506036]), array([0.70675849, 0.73966306])]\n",
      "[0, 0, 0, 0, 0, 0, 0, 0, 0, 0, 0, 0, 0, 0, 0, 0, array([0.36036264, 0.43393959]), array([0.36036264, 0.68656079]), array([0.76013773, 0.31374716]), array([0.76013773, 0.80675322]), array([0.36036264, 0.43393959]), array([0.36036264, 0.68656079]), array([0.76013773, 0.31374716]), array([0.76013773, 0.80675322]), array([0.36036264, 0.43393959]), array([0.36036264, 0.68656079]), array([0.76013773, 0.31374716]), array([0.76013773, 0.80675322]), array([0.36036264, 0.43393959]), array([0.36036264, 0.68656079]), array([0.76013773, 0.31374716]), array([0.76013773, 0.80675322]), array([0.36036264, 0.43393959]), array([0.36036264, 0.68656079]), array([0.76013773, 0.31374716]), array([0.76013773, 0.80675322]), array([0.36036264, 0.43393959]), array([0.36036264, 0.68656079]), array([0.76013773, 0.31374716]), array([0.76013773, 0.80675322]), array([0.36036264, 0.43393959]), array([0.36036264, 0.68656079]), array([0.76013773, 0.31374716]), array([0.76013773, 0.80675322]), array([0.36036264, 0.43393959]), array([0.36036264, 0.68656079]), array([0.76013773, 0.31374716]), array([0.76013773, 0.80675322]), array([0.36036264, 0.43393959]), array([0.36036264, 0.68656079]), array([0.76013773, 0.31374716]), array([0.76013773, 0.80675322]), array([0.36036264, 0.43393959]), array([0.36036264, 0.68656079]), array([0.76013773, 0.31374716]), array([0.76013773, 0.80675322]), array([0.36036264, 0.43393959]), array([0.36036264, 0.68656079]), array([0.76013773, 0.31374716]), array([0.76013773, 0.80675322]), array([0.36036264, 0.43393959]), array([0.36036264, 0.68656079]), array([0.76013773, 0.31374716]), array([0.76013773, 0.80675322]), array([0.36036264, 0.43393959]), array([0.36036264, 0.68656079]), array([0.76013773, 0.31374716]), array([0.76013773, 0.80675322]), array([0.36036264, 0.43393959]), array([0.36036264, 0.68656079]), array([0.76013773, 0.31374716]), array([0.76013773, 0.80675322]), array([0.36036264, 0.43393959]), array([0.36036264, 0.68656079]), array([0.76013773, 0.31374716]), array([0.76013773, 0.80675322])]\n",
      "[0, 0, 0, 0, 0, 0, 0, 0, 0, 0, 0, 0, 0, 0, 0, 0, array([0.36276036, 0.44525278]), array([0.36276036, 0.73102456]), array([0.81351698, 0.30243397]), array([0.81351698, 0.87384337]), array([0.36276036, 0.44525278]), array([0.36276036, 0.73102456]), array([0.81351698, 0.30243397]), array([0.81351698, 0.87384337]), array([0.36276036, 0.44525278]), array([0.36276036, 0.73102456]), array([0.81351698, 0.30243397]), array([0.81351698, 0.87384337]), array([0.36276036, 0.44525278]), array([0.36276036, 0.73102456]), array([0.81351698, 0.30243397]), array([0.81351698, 0.87384337]), array([0.36276036, 0.44525278]), array([0.36276036, 0.73102456]), array([0.81351698, 0.30243397]), array([0.81351698, 0.87384337]), array([0.36276036, 0.44525278]), array([0.36276036, 0.73102456]), array([0.81351698, 0.30243397]), array([0.81351698, 0.87384337]), array([0.36276036, 0.44525278]), array([0.36276036, 0.73102456]), array([0.81351698, 0.30243397]), array([0.81351698, 0.87384337]), array([0.36276036, 0.44525278]), array([0.36276036, 0.73102456]), array([0.81351698, 0.30243397]), array([0.81351698, 0.87384337]), array([0.36276036, 0.44525278]), array([0.36276036, 0.73102456]), array([0.81351698, 0.30243397]), array([0.81351698, 0.87384337]), array([0.36276036, 0.44525278]), array([0.36276036, 0.73102456]), array([0.81351698, 0.30243397]), array([0.81351698, 0.87384337]), array([0.36276036, 0.44525278]), array([0.36276036, 0.73102456]), array([0.81351698, 0.30243397]), array([0.81351698, 0.87384337]), array([0.36276036, 0.44525278]), array([0.36276036, 0.73102456]), array([0.81351698, 0.30243397]), array([0.81351698, 0.87384337]), array([0.36276036, 0.44525278]), array([0.36276036, 0.73102456]), array([0.81351698, 0.30243397]), array([0.81351698, 0.87384337]), array([0.36276036, 0.44525278]), array([0.36276036, 0.73102456]), array([0.81351698, 0.30243397]), array([0.81351698, 0.87384337]), array([0.36276036, 0.44525278]), array([0.36276036, 0.73102456]), array([0.81351698, 0.30243397]), array([0.81351698, 0.87384337]), array([0.36276036, 0.44525278]), array([0.36276036, 0.73102456]), array([0.81351698, 0.30243397]), array([0.81351698, 0.87384337])]\n"
     ]
    },
    {
     "name": "stdout",
     "output_type": "stream",
     "text": [
      "[0, 0, 0, 0, 0, 0, 0, 0, 0, 0, 0, 0, 0, 0, 0, 0, array([0.36276036, 0.44525278]), array([0.36276036, 0.73102456]), array([0.81351698, 0.30243397]), array([0.81351698, 0.87384337]), array([0.36276036, 0.44525278]), array([0.36276036, 0.73102456]), array([0.81351698, 0.30243397]), array([0.81351698, 0.87384337]), array([0.36276036, 0.44525278]), array([0.36276036, 0.73102456]), array([0.81351698, 0.30243397]), array([0.81351698, 0.87384337]), array([0.36276036, 0.44525278]), array([0.36276036, 0.73102456]), array([0.81351698, 0.30243397]), array([0.81351698, 0.87384337]), array([0.36276036, 0.44525278]), array([0.36276036, 0.73102456]), array([0.81351698, 0.30243397]), array([0.81351698, 0.87384337]), array([0.36276036, 0.44525278]), array([0.36276036, 0.73102456]), array([0.81351698, 0.30243397]), array([0.81351698, 0.87384337]), array([0.36276036, 0.44525278]), array([0.36276036, 0.73102456]), array([0.81351698, 0.30243397]), array([0.81351698, 0.87384337]), array([0.36276036, 0.44525278]), array([0.36276036, 0.73102456]), array([0.81351698, 0.30243397]), array([0.81351698, 0.87384337]), array([0.36276036, 0.44525278]), array([0.36276036, 0.73102456]), array([0.81351698, 0.30243397]), array([0.81351698, 0.87384337]), array([0.36276036, 0.44525278]), array([0.36276036, 0.73102456]), array([0.81351698, 0.30243397]), array([0.81351698, 0.87384337]), array([0.36276036, 0.44525278]), array([0.36276036, 0.73102456]), array([0.81351698, 0.30243397]), array([0.81351698, 0.87384337]), array([0.36276036, 0.44525278]), array([0.36276036, 0.73102456]), array([0.81351698, 0.30243397]), array([0.81351698, 0.87384337]), array([0.36276036, 0.44525278]), array([0.36276036, 0.73102456]), array([0.81351698, 0.30243397]), array([0.81351698, 0.87384337]), array([0.36276036, 0.44525278]), array([0.36276036, 0.73102456]), array([0.81351698, 0.30243397]), array([0.81351698, 0.87384337]), array([0.36276036, 0.44525278]), array([0.36276036, 0.73102456]), array([0.81351698, 0.30243397]), array([0.81351698, 0.87384337]), array([0.36276036, 0.44525278]), array([0.36276036, 0.73102456]), array([0.81351698, 0.30243397]), array([0.81351698, 0.87384337])]\n"
     ]
    }
   ],
   "source": [
    "n_events = 4 # Number of collision events.\n",
    "t = 0 # Initial time.\n",
    "positions = np.array([[0.4,0.4],[0.4,0.6],[0.6, 0.4], [0.6,0.6]])\n",
    "velocities = np.array([[1.,0.],[1.,1.],[0.,1.],[0.,0.]])\n",
    "\n",
    "pos_inst=[0 for j in range(n_events*4)]\n",
    "n=0\n",
    "############### Event Loop ##############################################\n",
    "for event in range(n_events):\n",
    "   # Wall collision times for all disks and their velocity components.\n",
    "    wall_times = [wall_time(positions[i][j], velocities[i][j], Ratom) for i in range(Natoms) for j in range(2)] \n",
    "    # Pair collision times  ## pos[i][j]=ith ball and jth coordinate  j here is component\n",
    "    pair_times = [pair_time(positions[i], velocities[i], positions[j], velocities[j], Ratom) for i,j in pairs] \n",
    "    # The next collision event is the minimum of wall and pair collision times.\n",
    "    next_event = min(wall_times + pair_times)  \n",
    "    #################  snapshots ###############\n",
    "    t_inst=np.linspace(t,next_event,5)\n",
    "    t_list=np.delete(t_inst,len(t_inst)-1)  ### otherwise index goes out of range\n",
    "\n",
    "    for snapshot_time in t_list:\n",
    "        result = np.where(t_list == snapshot_time)\n",
    "        ind=result[0][0]\n",
    "        delta_t=t_inst[ind+1]-t_inst[ind]\n",
    "        for i in range(Natoms):\n",
    "            positions[i] += velocities[i]*(delta_t)\n",
    "        pos_inst.extend(positions)\n",
    "        print(pos_inst)\n",
    "        n=n+1\n",
    "        \n",
    "        \n",
    "    if min(wall_times) < min(pair_times): # Check if next event is a collision with a wall\n",
    "        wall_index = wall_times.index(next_event)\n",
    "        particle, component = divmod(wall_index, 2)\n",
    "        velocities[particle][component] *= -1.0 ## Velocity component normal to wall changes sign\n",
    "    else:\n",
    "        pair_index = pair_times.index(next_event)\n",
    "        particle_1, particle_2 = pairs[pair_index] # Indices of particles participating in collision.\n",
    "        rel_pos = positions[particle_2] - positions[particle_1]\n",
    "        rel_vel = velocities[particle_2] - velocities[particle_1]\n",
    "        distance = np.sqrt(np.dot(rel_pos,rel_pos))\n",
    "        unit_perp = rel_pos/distance\n",
    "        scal_prod = np.dot(rel_vel,unit_perp)\n",
    "        velocities[particle_1] += scal_prod*unit_perp # Change in velocities of atoms colliding with each other\n",
    "        velocities[particle_2] -= scal_prod*unit_perp\n",
    "\n",
    "##################################################################################\n",
    "\n",
    "print(pos_inst)"
   ]
  },
  {
   "cell_type": "code",
   "execution_count": 5,
   "metadata": {
    "colab": {
     "base_uri": "https://localhost:8080/",
     "height": 269
    },
    "executionInfo": {
     "elapsed": 5621,
     "status": "ok",
     "timestamp": 1609987285390,
     "user": {
      "displayName": "Dhruv Tiwari",
      "photoUrl": "",
      "userId": "03711006785105947585"
     },
     "user_tz": -330
    },
    "id": "dxzZcpFWO2Vl",
    "outputId": "141cc29d-62c3-42ba-9566-7a4b6ad1dcd6"
   },
   "outputs": [
    {
     "data": {
      "image/png": "[encoded data removed]",
      "text/plain": [
       "<Figure size 432x288 with 1 Axes>"
      ]
     },
     "metadata": {
      "needs_background": "light"
     },
     "output_type": "display_data"
    }
   ],
   "source": [
    "create_picture(positions)   #0.00548274"
   ]
  },
  {
   "cell_type": "code",
   "execution_count": 46,
   "metadata": {
    "executionInfo": {
     "elapsed": 5617,
     "status": "ok",
     "timestamp": 1609987285391,
     "user": {
      "displayName": "Dhruv Tiwari",
      "photoUrl": "",
      "userId": "03711006785105947585"
     },
     "user_tz": -330
    },
    "id": "ygZCm9KzO2Vp"
   },
   "outputs": [
    {
     "data": {
      "text/plain": [
       "array([[0.36276036, 0.44525278],\n",
       "       [0.36276036, 0.73102456],\n",
       "       [0.81351698, 0.30243397],\n",
       "       [0.81351698, 0.87384337]])"
      ]
     },
     "execution_count": 46,
     "metadata": {},
     "output_type": "execute_result"
    }
   ],
   "source": [
    "pos_inst[1]"
   ]
  },
  {
   "cell_type": "code",
   "execution_count": 7,
   "metadata": {},
   "outputs": [
    {
     "name": "stdout",
     "output_type": "stream",
     "text": [
      "[[3 2 5 2]\n",
      " [4 2 3 1]]\n",
      "[[1 2 4 5]\n",
      " [1 3 6 3]]\n",
      "[[3 2 5 2]\n",
      " [4 2 3 1]]\n",
      "[[1 2 4 5]\n",
      " [1 3 6 3]]\n",
      "[array([[3, 2, 5, 2],\n",
      "       [4, 2, 3, 1]]), array([[1, 2, 4, 5],\n",
      "       [1, 3, 6, 3]]), array([[3, 2, 5, 2],\n",
      "       [4, 2, 3, 1]]), array([[1, 2, 4, 5],\n",
      "       [1, 3, 6, 3]])]\n"
     ]
    }
   ],
   "source": [
    "a=np.array([[3,2,5,2],[4,2,3,1]])\n",
    "b=np.array([[1,2,4,5],[1,3,6,3]])\n",
    "c=[]\n",
    "c.append(a)\n",
    "c.append(b)\n",
    "d=[]\n",
    "for i in range(2):\n",
    "    for j in range(2):\n",
    "        print(c[j])\n",
    "        d.append(c[j])\n",
    "print(d)"
   ]
  },
  {
   "cell_type": "code",
   "execution_count": null,
   "metadata": {},
   "outputs": [],
   "source": []
  },
  {
   "cell_type": "code",
   "execution_count": 8,
   "metadata": {},
   "outputs": [
    {
     "data": {
      "text/plain": [
       "array(0.)"
      ]
     },
     "execution_count": 8,
     "metadata": {},
     "output_type": "execute_result"
    }
   ],
   "source": [
    "p=np.empty([])\n",
    "p"
   ]
  },
  {
   "cell_type": "code",
   "execution_count": 38,
   "metadata": {},
   "outputs": [
    {
     "name": "stdout",
     "output_type": "stream",
     "text": [
      "[[0. 0.]\n",
      " [0. 0.]\n",
      " [0. 0.]\n",
      " [0. 0.]]\n"
     ]
    }
   ],
   "source": [
    "a=[]\n",
    "for i in range(0,10):\n",
    "    y=np.zeros((4,2))\n",
    "    a.append(y)\n",
    "print(a[0])"
   ]
  },
  {
   "cell_type": "code",
   "execution_count": 157,
   "metadata": {},
   "outputs": [
    {
     "data": {
      "text/plain": [
       "[[1, 2, 3], [3, 4, 2], [3, 6, 4], [8, 9, 7]]"
      ]
     },
     "execution_count": 157,
     "metadata": {},
     "output_type": "execute_result"
    }
   ],
   "source": [
    "a=[[1,2,3],[3,4,2]]\n",
    "b=[[3,6,4],[8,9,7]]\n",
    "a+b"
   ]
  },
  {
   "cell_type": "code",
   "execution_count": 48,
   "metadata": {},
   "outputs": [
    {
     "data": {
      "text/plain": [
       "array([[ 8, 10, 12],\n",
       "       [14, 16, 18]])"
      ]
     },
     "execution_count": 48,
     "metadata": {},
     "output_type": "execute_result"
    }
   ],
   "source": [
    "a=np.array([[1,2,3],[4,5,6]])\n",
    "b=np.array([[7,8,9],[10,11,12]])\n",
    "a+b"
   ]
  },
  {
   "cell_type": "code",
   "execution_count": 25,
   "metadata": {},
   "outputs": [
    {
     "data": {
      "text/plain": [
       "[1, 1, 1, 1]"
      ]
     },
     "execution_count": 25,
     "metadata": {},
     "output_type": "execute_result"
    }
   ],
   "source": [
    "y=[]\n",
    "y"
   ]
  },
  {
   "cell_type": "code",
   "execution_count": 13,
   "metadata": {},
   "outputs": [
    {
     "data": {
      "text/plain": [
       "[[], [], []]"
      ]
     },
     "execution_count": 13,
     "metadata": {},
     "output_type": "execute_result"
    }
   ],
   "source": [
    "y=[[]*4 for _ in range(3)]\n",
    "y"
   ]
  },
  {
   "cell_type": "code",
   "execution_count": 22,
   "metadata": {},
   "outputs": [
    {
     "name": "stdout",
     "output_type": "stream",
     "text": [
      "[[], [], [], [], [], [], [], [], [], [], [], [], [], [], [], []]\n"
     ]
    },
    {
     "data": {
      "text/plain": [
       "[[],\n",
       " array([[1, 2, 3],\n",
       "        [4, 5, 6]]),\n",
       " [],\n",
       " [],\n",
       " [],\n",
       " [],\n",
       " [],\n",
       " [],\n",
       " [],\n",
       " [],\n",
       " [],\n",
       " [],\n",
       " [],\n",
       " [],\n",
       " [],\n",
       " []]"
      ]
     },
     "execution_count": 22,
     "metadata": {},
     "output_type": "execute_result"
    }
   ],
   "source": [
    "pos_inst=[[] for _ in range(16)]\n",
    "a=np.array([[1,2,3],[4,5,6]])\n",
    "b=np.array([[7,8,9],[10,11,12]])\n",
    "print(pos_inst)\n",
    "pos_inst[1]=a\n",
    "pos_inst"
   ]
  },
  {
   "cell_type": "code",
   "execution_count": null,
   "metadata": {},
   "outputs": [],
   "source": []
  }
 ],
 "metadata": {
  "colab": {
   "name": "Hard_Disks.ipynb",
   "provenance": []
  },
  "kernelspec": {
   "display_name": "Python 3",
   "language": "python",
   "name": "python3"
  },
  "language_info": {
   "codemirror_mode": {
    "name": "ipython",
    "version": 3
   },
   "file_extension": ".py",
   "mimetype": "text/x-python",
   "name": "python",
   "nbconvert_exporter": "python",
   "pygments_lexer": "ipython3",
   "version": "3.7.0"
  }
 },
 "nbformat": 4,
 "nbformat_minor": 1
}
