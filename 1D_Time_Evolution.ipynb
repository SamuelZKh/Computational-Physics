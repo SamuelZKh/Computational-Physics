{
 "cells": [
  {
   "cell_type": "markdown",
   "metadata": {},
   "source": [
    "# Solving the 1-D Schrodinger Equation\n",
    "$$ i \\hbar \\frac{\\partial \\psi}{\\partial t} = -\\frac{\\hbar^2}{2m} \\frac{\\partial^2\\psi}{\\partial x^2} + V(x)\\psi $$\n",
    "\n",
    "## Discretization (after dimensional analysis)\n",
    "\n",
    "$$ i \\frac{d\\phi}{dt} = H \\phi $$\n",
    "\n",
    "where\n",
    "\n",
    "$$H_{ij} = -\\frac{1}{\\Delta^2}\\left(\\delta_{i+1,j}-2\\delta_{i,j}+\\delta_{i-1,j}\\right) + U_i \\delta_{i,j} $$  \n",
    "\n",
    "\n",
    "Formal solution:  \n",
    "\n",
    "$$ \\phi(t) = e^{-i H t} \\phi(0) $$\n",
    "\n",
    "Strategy:  \n",
    "1. Solve for eigenvalues and eigenvectors of $H$  \n",
    "\n",
    "$$ H \\phi_n = \\epsilon_n \\phi_n $$  \n",
    "\n",
    "2. Expand $\\phi(0)$ in the basis of eigenvectors  \n",
    "\n",
    "$$ \\phi(0) = \\sum_n c_n \\phi_n $$  \n",
    "where $c_n = \\phi_n^{\\dagger} \\phi(0)$  \n",
    "\n",
    "3. The state $\\phi(t)$ is then given by  \n",
    "\n",
    "\\begin{eqnarray*}\n",
    "\\phi(t) &=& e^{-i H t} \\phi(0) \\\\\n",
    "&=& \\sum_n c_n e^{-i\\epsilon_n t}\\phi_n\n",
    "\\end{eqnarray*}"
   ]
  },
  {
   "cell_type": "markdown",
   "metadata": {},
   "source": [
    "## Example: Time evolution of free particle\n",
    "\n",
    "Initial wavefunction: Gaussian\n"
   ]
  },
  {
   "cell_type": "code",
   "execution_count": 2,
   "metadata": {},
   "outputs": [],
   "source": [
    "import numpy as np\n",
    "from numpy import linalg as lin\n",
    "import matplotlib.pyplot as plt\n",
    "plt.style.use(\"seaborn-whitegrid\")\n",
    "%matplotlib inline"
   ]
  },
  {
   "cell_type": "code",
   "execution_count": 33,
   "metadata": {},
   "outputs": [],
   "source": [
    "delta = 0.1\n",
    "L = 10. \n",
    "N = 100 \n",
    "dimension = 2*N + 1 # Number of lattice points.\n",
    "x = np.linspace(-L,L,2*N+1)\n"
   ]
  },
  {
   "cell_type": "code",
   "execution_count": 34,
   "metadata": {},
   "outputs": [],
   "source": [
    "def kronecker(i,j):\n",
    "    return 1 if i==j else 0\n",
    "\n",
    "def h(i,j):\n",
    "    return (-kronecker(i+1,j) + 2*kronecker(i,j) - kronecker(i-1,j))/delta**2 "
   ]
  },
  {
   "cell_type": "code",
   "execution_count": 35,
   "metadata": {},
   "outputs": [],
   "source": [
    "H = np.array( [[h(i,j) for i in range(-N,N+1)] for j in range(-N,N+1)] ) # The Hamiltonian matrix\n",
    "H_eigenvalues, H_eigenvectors = lin.eig(H)\n",
    "idx = H_eigenvalues.argsort() # Sorted indices (increasing order of eigenvalues)\n",
    "H_eigenvalues = H_eigenvalues[idx] # Sorted eigenvalues\n",
    "H_eigenvectors = H_eigenvectors[:,idx] # Sorted eigenvectors"
   ]
  },
  {
   "cell_type": "code",
   "execution_count": 44,
   "metadata": {},
   "outputs": [],
   "source": [
    "###### The initial Gaussian wavefunction ##########\n",
    "a = 1.0 ## Initial spread in units of l0\n",
    "b = 0.0 ## Initial peak of the Gaussian\n",
    "p0 = 0.0 ## Initial momentum in units of hbar/l0"
   ]
  },
  {
   "cell_type": "code",
   "execution_count": 45,
   "metadata": {},
   "outputs": [],
   "source": [
    "def psi0(y):\n",
    "    return (1/pow(np.pi*(a**2),0.25))*np.exp(-((y-b)**2)/(2.0*a**2) - 1j*p0*y)"
   ]
  },
  {
   "cell_type": "code",
   "execution_count": 46,
   "metadata": {},
   "outputs": [],
   "source": [
    "Psi0 = np.sqrt(delta)*np.array( [psi0(delta*i) for i in range(-N,N+1)], 'complex' )"
   ]
  },
  {
   "cell_type": "code",
   "execution_count": 47,
   "metadata": {},
   "outputs": [],
   "source": [
    "def Psi(t):\n",
    "    sum = np.zeros(dimension, 'complex')\n",
    "    for n in range(dimension):\n",
    "        c = np.vdot(Psi0, H_eigenvectors[:,n]) # nth expansion coefficient \n",
    "        E = H_eigenvalues[n]\n",
    "        sum += c * np.exp(-E*t*1.0j) * H_eigenvectors[:,n]\n",
    "    return sum\n",
    "\n",
    "def Prob(t):\n",
    "    return np.array( [abs(Psi(t)[i])**2 for i in range(dimension)] )"
   ]
  },
  {
   "cell_type": "code",
   "execution_count": 48,
   "metadata": {},
   "outputs": [
    {
     "data": {
      "text/plain": [
       "[<matplotlib.lines.Line2D at 0x7f62282439d0>]"
      ]
     },
     "execution_count": 48,
     "metadata": {},
     "output_type": "execute_result"
    },
    {
     "data": {
      "image/png": "[encoded data removed]",
      "text/plain": [
       "<Figure size 432x288 with 1 Axes>"
      ]
     },
     "metadata": {
      "needs_background": "light"
     },
     "output_type": "display_data"
    }
   ],
   "source": [
    "plt.plot(x, Prob(0))"
   ]
  },
  {
   "cell_type": "code",
   "execution_count": 50,
   "metadata": {},
   "outputs": [
    {
     "data": {
      "text/plain": [
       "[<matplotlib.lines.Line2D at 0x7f62280c73a0>]"
      ]
     },
     "execution_count": 50,
     "metadata": {},
     "output_type": "execute_result"
    },
    {
     "data": {
      "image/png": "[encoded data removed]",
      "text/plain": [
       "<Figure size 432x288 with 1 Axes>"
      ]
     },
     "metadata": {
      "needs_background": "light"
     },
     "output_type": "display_data"
    }
   ],
   "source": [
    "plt.plot(x, Prob(0.5))"
   ]
  },
  {
   "cell_type": "code",
   "execution_count": 51,
   "metadata": {},
   "outputs": [
    {
     "data": {
      "text/plain": [
       "[<matplotlib.lines.Line2D at 0x7f62280249a0>]"
      ]
     },
     "execution_count": 51,
     "metadata": {},
     "output_type": "execute_result"
    },
    {
     "data": {
      "image/png": "[encoded data removed]",
      "text/plain": [
       "<Figure size 432x288 with 1 Axes>"
      ]
     },
     "metadata": {
      "needs_background": "light"
     },
     "output_type": "display_data"
    }
   ],
   "source": [
    "plt.plot(x, Prob(1.))"
   ]
  },
  {
   "cell_type": "code",
   "execution_count": null,
   "metadata": {},
   "outputs": [],
   "source": []
  }
 ],
 "metadata": {
  "kernelspec": {
   "display_name": "Python 3",
   "language": "python",
   "name": "python3"
  },
  "language_info": {
   "codemirror_mode": {
    "name": "ipython",
    "version": 3
   },
   "file_extension": ".py",
   "mimetype": "text/x-python",
   "name": "python",
   "nbconvert_exporter": "python",
   "pygments_lexer": "ipython3",
   "version": "3.7.0"
  },
  "latex_envs": {
   "LaTeX_envs_menu_present": true,
   "autoclose": true,
   "autocomplete": true,
   "bibliofile": "biblio.bib",
   "cite_by": "apalike",
   "current_citInitial": 1,
   "eqLabelWithNumbers": true,
   "eqNumInitial": 1,
   "hotkeys": {
    "equation": "Ctrl-E",
    "itemize": "Ctrl-I"
   },
   "labels_anchors": false,
   "latex_user_defs": false,
   "report_style_numbering": false,
   "user_envs_cfg": false
  }
 },
 "nbformat": 4,
 "nbformat_minor": 4
}
