{
 "cells": [
  {
   "cell_type": "code",
   "execution_count": 10,
   "metadata": {},
   "outputs": [
    {
     "name": "stdout",
     "output_type": "stream",
     "text": [
      "0.01410473987697575\n",
      "0.014104739185602152\n",
      "0.014104739367147037\n",
      "0.014104740564581853\n",
      "0.014104738911913923\n",
      "0.014104739063634238\n",
      "0.01410474061457256\n",
      "0.014104739384187213\n",
      "0.014104739312749552\n"
     ]
    },
    {
     "data": {
      "text/plain": [
       "[]"
      ]
     },
     "execution_count": 10,
     "metadata": {},
     "output_type": "execute_result"
    },
    {
     "data": {
      "image/png": "[encoded data removed]",
      "text/plain": [
       "<Figure size 432x288 with 1 Axes>"
      ]
     },
     "metadata": {
      "needs_background": "light"
     },
     "output_type": "display_data"
    }
   ],
   "source": [
    "import numpy as np\n",
    "from numpy import linalg as lin\n",
    "import matplotlib.pyplot as plt\n",
    "from itertools import count\n",
    "from scipy.integrate import simps\n",
    "\n",
    "delta = 0.1\n",
    "L = 30.\n",
    "N = 100\n",
    "dimension = 2*N + 1 # Number of lattice points.\n",
    "x = np.linspace(-L,L,2*N+1)\n",
    "\n",
    "l=1\n",
    "V0=-20   ## energy scale expressed in terms of this\n",
    "hbar=6.58*(10)**(-16)\n",
    "m=9.1*(10)**(-31)\n",
    "E0=hbar**2/(2*m*(l**2))   ## Energy scale\n",
    "\n",
    "\n",
    "\n",
    "def V(z):\n",
    "    if abs(z)<=l:\n",
    "        return V0/E0\n",
    "    else:\n",
    "        return 0\n",
    "def kronecker(i,j):\n",
    "    return 1 if i==j else 0\n",
    "def h(i,j):\n",
    "    return (-kronecker(i+1,j) + 2*kronecker(i,j) - kronecker(i-1,j))/delta**2 + V(i*delta) * kronecker(i,j)\n",
    "\n",
    "\n",
    "a = 4   ## Initial spread in units of l0\n",
    "b = -5    ## Initial peak of the Gaussian\n",
    "\n",
    "def psi0(y):\n",
    "        return (1/pow(np.pi*(a**2),0.25))*np.exp(-((y-b)**2)/(2.0*a**2) - 1j*p0*y)\n",
    "\n",
    "Pi=[]\n",
    "Ti=[]\n",
    "for k in range(1,10):\n",
    "    p0=2*k\n",
    "    ###### The initial Gaussian wavefunction ##########\n",
    "    H = np.array( [[h(i,j) for i in range(-N,N+1)] for j in range(-N,N+1)] ) # The Hamiltonian matrix\n",
    "    H_eigenvalues, H_eigenvectors = lin.eig(H)\n",
    "    idx = H_eigenvalues.argsort() # Sorted indices (increasing order of eigenvalues)\n",
    "    H_eigenvalues = H_eigenvalues[idx] # Sorted eigenvalues\n",
    "    H_eigenvectors = H_eigenvectors[:,idx] # Sorted eigenvectors\n",
    "\n",
    "\n",
    "    \n",
    "    Psi0 = np.sqrt(delta)*np.array( [psi0(delta*i) for i in range(-N,N+1)], 'complex' )\n",
    "    \n",
    "    def Psi(t):\n",
    "        \n",
    "        sum = np.zeros(dimension, 'complex')\n",
    "        for n in range(dimension):\n",
    "            c = np.vdot(Psi0, H_eigenvectors[:,n]) # nth expansion coefficient\n",
    "            E = H_eigenvalues[n]\n",
    "            sum += c * np.exp(-E*t*1.0j) * H_eigenvectors[:,n]\n",
    "        return sum\n",
    "\n",
    "    def Prob(t):\n",
    "        return np.array( [abs(Psi(t)[i])**2 for i in range(dimension)] )\n",
    "    print(max(Prob(0)))\n",
    "    potential =0.01*np.array([V(delta*i) for i in range(-N,N+1)]) # Values of U(y) stored at lattice points\n",
    "    \n",
    "    \n",
    "    Tn=[]\n",
    "    xn=[]\n",
    "    for i in x:\n",
    "        if i>1:\n",
    "            ind=np.where(x==i)\n",
    "            Tn.append(Prob(1)[ind][0])\n",
    "            xn.append(i)\n",
    "  \n",
    "    ProbT = simps(Tn,x=xn)\n",
    "    Pi.append(p0)\n",
    "    \n",
    "    TotProb=simps(Prob(7*delta),x=x)\n",
    "    Transmision=(ProbT/TotProb)\n",
    "    Ti.append(Transmision)\n",
    "    \n",
    "plt.scatter(Pi,Ti)\n",
    "plt.xlabel(\"P0\")\n",
    "plt.ylabel(\"Transmission probability\")\n",
    "\n",
    "plt.plot()\n",
    "\n",
    "  \n",
    "   \n",
    "\n",
    "\n",
    "\n",
    "\n"
   ]
  },
  {
   "cell_type": "code",
   "execution_count": 11,
   "metadata": {},
   "outputs": [
    {
     "data": {
      "image/png": "[encoded data removed]",
      "text/plain": [
       "<Figure size 432x288 with 1 Axes>"
      ]
     },
     "metadata": {
      "needs_background": "light"
     },
     "output_type": "display_data"
    }
   ],
   "source": [
    "from numpy import *\n",
    "from numpy import linalg as lin\n",
    "import matplotlib.pyplot as plt\n",
    "from itertools import count\n",
    "from scipy.integrate import simps\n",
    "\n",
    "\n",
    "l=1\n",
    "V0=20   ## energy scale expressed in terms of this\n",
    "hbar=6.58*(10)**(-16)\n",
    "m=9.1*(10)**(-31)\n",
    "\n",
    "\n",
    "\n",
    "def theory(x):\n",
    "    E=x**2/2\n",
    "    k1=(V0/(E*(E+V0)))\n",
    "    k2=(sin((2*2/hbar)*(2*m*(E+V0))**0.5))**2\n",
    "\n",
    "    return 1/(1+k1*k2)\n",
    "Ypl=[]\n",
    "Xpl=[]\n",
    "for i in range(1,100):\n",
    "    pi=i/5\n",
    "    y=theory(pi)\n",
    "    Ypl.append(y)\n",
    "    Xpl.append(pi)\n",
    "    \n",
    "    \n",
    "plt.plot(Xpl,Ypl)\n",
    "plt.scatter(Pi,Ti,color=\"red\")\n",
    "plt.show()\n",
    "   \n"
   ]
  },
  {
   "cell_type": "code",
   "execution_count": null,
   "metadata": {},
   "outputs": [],
   "source": []
  },
  {
   "cell_type": "code",
   "execution_count": null,
   "metadata": {},
   "outputs": [],
   "source": []
  }
 ],
 "metadata": {
  "kernelspec": {
   "display_name": "Python 3",
   "language": "python",
   "name": "python3"
  },
  "language_info": {
   "codemirror_mode": {
    "name": "ipython",
    "version": 3
   },
   "file_extension": ".py",
   "mimetype": "text/x-python",
   "name": "python",
   "nbconvert_exporter": "python",
   "pygments_lexer": "ipython3",
   "version": "3.7.0"
  }
 },
 "nbformat": 4,
 "nbformat_minor": 4
}
