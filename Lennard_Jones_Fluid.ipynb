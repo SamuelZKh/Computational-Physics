{
  "nbformat": 4,
  "nbformat_minor": 0,
  "metadata": {
    "kernelspec": {
      "display_name": "Python 3",
      "language": "python",
      "name": "python3"
    },
    "language_info": {
      "codemirror_mode": {
        "name": "ipython",
        "version": 3
      },
      "file_extension": ".py",
      "mimetype": "text/x-python",
      "name": "python",
      "nbconvert_exporter": "python",
      "pygments_lexer": "ipython3",
      "version": "3.8.5"
    },
    "colab": {
      "name": "Lennard_Jones_Fluid.ipynb",
      "provenance": [],
      "collapsed_sections": []
    }
  },
  "cells": [
    {
      "cell_type": "code",
      "metadata": {
        "id": "BxLlS-ACLoFE"
      },
      "source": [
        "import numpy as np\n",
        "import math\n",
        "from tqdm import tqdm\n",
        "import matplotlib.pyplot as plt\n",
        "%matplotlib inline"
      ],
      "execution_count": null,
      "outputs": []
    },
    {
      "cell_type": "code",
      "metadata": {
        "id": "SnwmzzPTLoFH"
      },
      "source": [
        "rcut = 3.0  ##### Cut-off distance. If distance between atoms is greater than this, interaction between them is ignored.\n",
        "rcutsquare = rcut**2\n",
        "g2 = 1./rcutsquare\n",
        "g6 = g2*g2*g2\n",
        "potcut = 4.*g6*(g6-1) ##### Term to be subtracted from pair potential energy"
      ],
      "execution_count": null,
      "outputs": []
    },
    {
      "cell_type": "code",
      "metadata": {
        "id": "_qVqYeXPLoFH"
      },
      "source": [
        "##### Function to compute acceleration for a pair of atoms. r12 is relative displacement of atoms.\n",
        "\n",
        "def acceleration(r12): \n",
        "    r12square = np.dot(r12,r12)\n",
        "    f2 = 1./r12square\n",
        "    f6 = f2*f2*f2\n",
        "    acc = 48.*f2*f6*(f6-0.5)*r12\n",
        "    return acc\n"
      ],
      "execution_count": null,
      "outputs": []
    },
    {
      "cell_type": "code",
      "metadata": {
        "id": "aX4_1C8PLoFH"
      },
      "source": [
        "#### Function to compute potential energy for the system of particles. `pos' is the array of position vectors.\n",
        "def potentialenergy(pos):\n",
        "    potential = 0.\n",
        "    for i in range(Natoms-1):\n",
        "        for j in range(i+1,Natoms):\n",
        "            rij = pos[i] - pos[j] ## Relative position vector of the pair\n",
        "            for l in range(2):  ### Calculating the correct separation between particles because of periodic boundary conditions.\n",
        "                if abs(rij[l])>0.5*L: rij[l] -= L*np.sign(rij[l])\n",
        "            rijsquare = np.dot(rij,rij)\n",
        "            if rijsquare < rcutsquare: # Imposing interaction cut-off\n",
        "                f2 = 1./rijsquare\n",
        "                f6 = f2*f2*f2\n",
        "                potential += 4.*f6*(f6-1.) - potcut\n",
        "    return potential"
      ],
      "execution_count": null,
      "outputs": []
    },
    {
      "cell_type": "code",
      "metadata": {
        "id": "JCBO1sXTLoFI"
      },
      "source": [
        "number = 5\n",
        "Natoms = number**2  # No. of atoms\n",
        "Ratom = 0.5  ### Radius of atom used to illustrate the atom as a sphere.\n",
        "rho = 0.5 ### Number Density\n",
        "L = math.pow(Natoms/rho,0.5) # Length of a side of the square containing the gas.\n",
        "T0 = 120. # Natural temperature scale, T0 = epsilon/k.\n",
        "T = 0.   # Temperature in Kelvin\n",
        "dt = 1E-2  # Time step for Verlet Algorithm\n"
      ],
      "execution_count": null,
      "outputs": []
    },
    {
      "cell_type": "code",
      "metadata": {
        "id": "5MBqq3RZLoFI"
      },
      "source": [
        "###### Atoms are arranged initially in a square lattice configuration with spacing between neighbors equal to equilibrium separation of the potential energy.\n",
        "\n",
        "equilib_sep = math.pow(2.,1./6.)  ## Equilibrium separation of atoms\n",
        "wall_spacing = (L-(number-1)*equilib_sep)/2.  ## Distance betwee the walls and the initial array of atoms.\n",
        "poslist = []  # List for positions of atoms\n",
        "vlist = []   # List for velocities\n",
        "\n",
        "\n",
        "\n",
        "\n",
        "################  Initialize positions and velocities ##############################################\n",
        "x, y = wall_spacing, wall_spacing\n",
        "\n",
        "for i in range(number):\n",
        "    for j in range(number):\n",
        "        xi, yi = x + equilib_sep*j, y + equilib_sep*i\n",
        "        poslist.append((xi,yi))\n",
        "\n",
        "\n",
        "####### Initially, all particles have the same speed but random velocity directions. ################\n",
        "v0 = math.sqrt(2.*T/T0)\n",
        "\n",
        "for i in range(Natoms):\n",
        "    phi = 2*np.pi*np.random.random()\n",
        "    vx = v0*np.cos(phi)\n",
        "    vy = v0*np.sin(phi)\n",
        "    vlist.append((vx,vy))\n",
        "###################################################################################################\n",
        "\n",
        "\n",
        "\n",
        "\n",
        "pos = np.array(poslist)  ### Converts lists to numpy arrays\n",
        "v = np.array(vlist) ## Scaled velocity\n",
        "\n",
        "\n",
        "V_cm = np.sum(v, axis = 0)/Natoms ## Correcting for CM velocity.\n",
        "V = np.array([V_cm,]*Natoms)\n",
        "v -= V  \n"
      ],
      "execution_count": null,
      "outputs": []
    },
    {
      "cell_type": "code",
      "metadata": {
        "id": "NjYcHwFtLoFI"
      },
      "source": [
        "time = 0. # Initial time.\n",
        "t_final = 50. # Time upto which simulation is carried out.\n",
        "\n",
        "potential_energy = potentialenergy(pos)\n",
        "kinetic_energy = 0.5*sum(np.square(v).sum(axis=1))\n",
        "energy = kinetic_energy + potential_energy\n",
        "Time_List = [time]\n",
        "Energy_List = [energy]\n",
        "PotentialEnergy_List = [potential_energy]\n",
        "KineticEnergy_List = [kinetic_energy]\n",
        "Vel_list=[]\n",
        "\n",
        "\n",
        "iterations = int(t_final/dt) # Number of iterations of the Verlet Algorithm."
      ],
      "execution_count": null,
      "outputs": []
    },
    {
      "cell_type": "code",
      "metadata": {
        "colab": {
          "base_uri": "https://localhost:8080/"
        },
        "id": "Ls_nsnIQLoFI",
        "outputId": "9ee603fb-7fe0-44e5-9944-bd7e2fb840f3"
      },
      "source": [
        "##################################### The Verlet Algorithm Loop ###################################\n",
        "for step in tqdm(range(iterations)):\n",
        "    pos += v*dt/2. ## Updating positions.\n",
        "    for i in range(Natoms): ## Imposing periodic boundary conditions.\n",
        "        for j in range(2):\n",
        "            if pos[i][j] > L: pos[i][j] -= L\n",
        "            elif pos[i][j] < 0: pos[i][j] += L\n",
        "    accel = np.zeros((Natoms,2)) ## Initialising acceleration array.\n",
        "    for i in range(Natoms-1):\n",
        "        for j in range(i+1,Natoms):\n",
        "            rij = pos[i] - pos[j]\n",
        "            for l in range(2):  ### Calculating the correct separation between particles.\n",
        "                if abs(rij[l])>0.5*L: rij[l] -= L*np.sign(rij[l])\n",
        "            if np.dot(rij,rij) < rcutsquare:\n",
        "                acc = acceleration(rij) # Computing acceleration for a pair of particles.\n",
        "                accel[i] += acc\n",
        "                accel[j] -= acc\n",
        "    v += accel*dt  ## Updating velocities.\n",
        "    \n",
        "   \n",
        "    \n",
        "\n",
        "    pos += v*dt/2. ## Final updating of positions.\n",
        "    for i in range(Natoms): ## Imposing periodic boundary conditions.\n",
        "        for j in range(2):\n",
        "            if pos[i][j] > L: pos[i][j] -= L\n",
        "            elif pos[i][j] < 0: pos[i][j] += L\n",
        "    potential_energy = potentialenergy(pos)\n",
        "    kinetic_energy = 0.5*sum(np.square(v).sum(axis=1))\n",
        "    energy = kinetic_energy + potential_energy\n",
        "    Energy_List.append(energy)\n",
        "    PotentialEnergy_List.append(potential_energy)\n",
        "    KineticEnergy_List.append(kinetic_energy)\n",
        "    \n",
        "    time += dt\n",
        "    Time_List.append(time)"
      ],
      "execution_count": null,
      "outputs": [
        {
          "output_type": "stream",
          "name": "stderr",
          "text": [
            "100%|██████████| 5000/5000 [00:24<00:00, 202.40it/s]\n"
          ]
        }
      ]
    },
    {
      "cell_type": "code",
      "metadata": {
        "colab": {
          "base_uri": "https://localhost:8080/",
          "height": 312
        },
        "id": "B_JqVuDULoFJ",
        "outputId": "f87ea015-7667-4ede-d6ab-94f41e7f9041"
      },
      "source": [
        "plt.xlabel('t') # Label for the x-axis\n",
        "plt.ylabel('Energy') # Label for the y-axis\n",
        "plt.title('Energy vs Time') # Title of plot\n",
        "plt.plot(Time_List,Energy_List, color = 'r') \n",
        "plt.plot(Time_List,PotentialEnergy_List, color = 'b')\n",
        "plt.plot(Time_List,KineticEnergy_List, color = 'g')\n"
      ],
      "execution_count": null,
      "outputs": [
        {
          "output_type": "execute_result",
          "data": {
            "text/plain": [
              "[<matplotlib.lines.Line2D at 0x7fe820a20d90>]"
            ]
          },
          "metadata": {},
          "execution_count": 11
        },
        {
          "output_type": "display_data",
          "data": {
            "image/png": "[encoded data removed]",
            "text/plain": [
              "<Figure size 432x288 with 1 Axes>"
            ]
          },
          "metadata": {
            "needs_background": "light"
          }
        }
      ]
    },
    {
      "cell_type": "code",
      "metadata": {
        "id": "k5i0Uca6L6z7"
      },
      "source": [
        ""
      ],
      "execution_count": null,
      "outputs": []
    },
    {
      "cell_type": "code",
      "metadata": {
        "id": "HqHh04IaFY2q"
      },
      "source": [
        ""
      ],
      "execution_count": null,
      "outputs": []
    }
  ]
}