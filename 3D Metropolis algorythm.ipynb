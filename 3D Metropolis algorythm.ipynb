{
 "cells": [
  {
   "cell_type": "code",
   "execution_count": 71,
   "metadata": {},
   "outputs": [],
   "source": [
    "import numpy as np\n",
    "import random\n",
    "import matplotlib.pyplot as plt\n",
    "import scipy.integrate as integrate\n",
    "from scipy import integrate\n",
    "plt.style.use(\"seaborn-whitegrid\")\n",
    "%matplotlib ipympl\n"
   ]
  },
  {
   "cell_type": "code",
   "execution_count": 78,
   "metadata": {},
   "outputs": [
    {
     "data": {
      "application/vnd.jupyter.widget-view+json": {
       "model_id": "a54ec890d4b841d29c36acf8375f83e0",
       "version_major": 2,
       "version_minor": 0
      },
      "text/plain": [
       "Canvas(toolbar=Toolbar(toolitems=[('Home', 'Reset original view', 'home', 'home'), ('Back', 'Back to previous …"
      ]
     },
     "metadata": {},
     "output_type": "display_data"
    },
    {
     "data": {
      "text/plain": [
       "Text(0.5, 1.0, 'distribution were using')"
      ]
     },
     "execution_count": 78,
     "metadata": {},
     "output_type": "execute_result"
    }
   ],
   "source": [
    "#### integral to be evaluated   1/sqrt(2 pi)   int(x.e^-x**2) \n",
    "           #### a probability distribution has to have the integral as 1\n",
    "Num=100000\n",
    "def Norm(x, y,z):\n",
    "    return x*y*z*np.exp(x+y+z)\n",
    "                         ##  Limits  for normalising\n",
    "def bounds_x(x):         ### NOTE: these bounds  can have variables not in use right now.\n",
    "    return [0,1]        \n",
    "\n",
    "def bounds_y(x):     \n",
    "    return [0,1]\n",
    "def bounds_z(x):\n",
    "    return [0,1]\n",
    "\n",
    "Int_temp,Error=integrate.nquad(Norm, [bounds_x(1), bounds_y(1),bounds_z(1)]) \n",
    "Normalise=1/Int_temp\n",
    "\n",
    "\n",
    "def p(x,y,z):\n",
    "    if (x>=0 and x<=1) and (y>=0 and y<=1) and (z>=0 and z<=1):\n",
    "        return Normalise*x*y*z*np.exp(x+y+z) # seperate a region of the integral. Usually we use normal dist:\n",
    "    else:                        ## but it has disadvantages to we sample different dist from the integral                                               \n",
    "        return 0            ####  for some reason it doesnt work if i dont do this\n",
    "    \n",
    "def f(x,y,z):              \n",
    "    return x*y*z*np.exp(x+y+z)/Normalise    ### Function to be integrated/Prob Distribution\n",
    "    \n",
    "\n",
    "def uniform_proposal(x, delta=1.0,):   ####  to get the distance moved in one step\n",
    "    return np.random.uniform(x - delta, x + delta)\n",
    "\n",
    "\n",
    "def metropolis_sampler(p, nsamples):  ## Samples the desired distribution using MCMC\n",
    "    chain=[[],[],[]]\n",
    "    x = [0.5,0.5,0.5] # start somewhere\n",
    "    proposal=uniform_proposal\n",
    "    for i in range(nsamples):\n",
    "       # print(x)\n",
    "        trial_x = proposal(x[0]) # random neighbour from the proposal distribution\n",
    "        trial_y = proposal(x[1])\n",
    "        trial_z = proposal(x[2])\n",
    "        acceptance = p(trial_x,trial_y,trial_z)/p(x[0],x[1],x[2])\n",
    "        # accept the move conditionally\n",
    "        if np.random.uniform() < acceptance:\n",
    "            x[0] = trial_x\n",
    "            x[1] = trial_y          ### update if accept\n",
    "            x[2] = trial_z\n",
    "        chain[0].append(x[0])\n",
    "        chain[1].append(x[1])\n",
    "        chain[2].append(x[2])\n",
    "    return chain\n",
    "%matplotlib ipympl\n",
    "samples =metropolis_sampler(p,Num)\n",
    "b=np.linspace(0,1,10)\n",
    "plt.hist(samples)\n",
    "plt.title('distribution were using')\n"
   ]
  },
  {
   "cell_type": "code",
   "execution_count": 73,
   "metadata": {},
   "outputs": [],
   "source": [
    "def Evaluate_integral(samples,f):\n",
    "    Funct=[]\n",
    "    Funct_plot=[]\n",
    "    Sum=0\n",
    "    for i in range(0,len(samples[0])):\n",
    "        x_temp=random.randint(0,Num-1)\n",
    "        y_temp=random.randint(0,Num-1)   ## chose random integers(for index) to sample from\n",
    "        z_temp=random.randint(0,Num-1)\n",
    "        xi=samples[0][x_temp]\n",
    "        yi=samples[1][y_temp]         ### sample from given non unform distribution\n",
    "        zi=samples[2][z_temp]\n",
    "        Integ=f(xi,yi,zi)             ## add it to integral\n",
    "        Sum+=Integ\n",
    "        Temp=Sum/(i)\n",
    "        Funct_plot.append(Temp)\n",
    "        Funct.append(Integ)\n",
    "    Integral=(np.sum(Funct)/(len(Funct)))       #### For some reason the expectation value is\n",
    "    print(Integral)                                      ##   Same as the average.... check the reading\n",
    "    return Funct_plot,Integral\n",
    "\n"
   ]
  },
  {
   "cell_type": "code",
   "execution_count": 74,
   "metadata": {},
   "outputs": [
    {
     "name": "stderr",
     "output_type": "stream",
     "text": [
      "c:\\users\\dell\\appdata\\local\\programs\\python\\python37\\lib\\site-packages\\ipykernel_launcher.py:14: RuntimeWarning: divide by zero encountered in double_scalars\n",
      "  \n"
     ]
    },
    {
     "name": "stdout",
     "output_type": "stream",
     "text": [
      "4.0630051743519475\n"
     ]
    },
    {
     "data": {
      "image/png": "[encoded data removed]",
      "text/plain": [
       "<Figure size 432x288 with 1 Axes>"
      ]
     },
     "metadata": {
      "needs_background": "light"
     },
     "output_type": "display_data"
    }
   ],
   "source": [
    "F_list,Integral=Evaluate_integral(samples,f)  ## Impliment function\n",
    "N=[i for i in range(0,len(F_list))]\n",
    "%matplotlib inline\n",
    "plt.plot(N,F_list)               ## See the integral converging\n",
    "plt.xlabel(\"Number of iterations\")\n",
    "plt.ylabel(\"Integral Estimate\")\n",
    "plt.title('Check for integral convergence')\n",
    "plt.show()\n",
    "\n",
    "\n"
   ]
  },
  {
   "cell_type": "code",
   "execution_count": 77,
   "metadata": {},
   "outputs": [
    {
     "name": "stderr",
     "output_type": "stream",
     "text": [
      "c:\\users\\dell\\appdata\\local\\programs\\python\\python37\\lib\\site-packages\\ipykernel_launcher.py:8: RuntimeWarning: divide by zero encountered in double_scalars\n",
      "  \n"
     ]
    },
    {
     "data": {
      "application/vnd.jupyter.widget-view+json": {
       "model_id": "401043e6e6d54e64bee667f197067e4f",
       "version_major": 2,
       "version_minor": 0
      },
      "text/plain": [
       "Canvas(toolbar=Toolbar(toolitems=[('Home', 'Reset original view', 'home', 'home'), ('Back', 'Back to previous …"
      ]
     },
     "metadata": {},
     "output_type": "display_data"
    }
   ],
   "source": [
    "Error=[]\n",
    "var=0\n",
    "for i in range(0,Num):   ############  Sum to find variance using the given formula\n",
    "    var_temp=(F_list[i]-Integral)**2/(i)\n",
    "    Error.append(var_temp)\n",
    "    var+=var_temp\n",
    "    \n",
    "fu=[1/np.sqrt(i) for i in N ]  ## plot of 1/N\n",
    "%matplotlib ipympl\n",
    "plt.plot(N,Error,label='Variance')\n",
    "plt.plot(N,fu,label='1/N')\n",
    "plt.xlabel(\"Number of iterations\")\n",
    "plt.ylabel(\"Variance\")\n",
    "plt.title('Variance plot')\n",
    "plt.xlim([-2000, 10000])\n",
    "plt.ylim([-0.2, 1.5])\n",
    "plt.legend()\n",
    "plt.show()"
   ]
  },
  {
   "cell_type": "code",
   "execution_count": 79,
   "metadata": {},
   "outputs": [
    {
     "name": "stderr",
     "output_type": "stream",
     "text": [
      "c:\\users\\dell\\appdata\\local\\programs\\python\\python37\\lib\\site-packages\\ipykernel_launcher.py:12: RuntimeWarning: divide by zero encountered in double_scalars\n",
      "  if sys.path[0] == '':\n"
     ]
    },
    {
     "data": {
      "application/vnd.jupyter.widget-view+json": {
       "model_id": "38099e04451d49bda3de44b3b7446249",
       "version_major": 2,
       "version_minor": 0
      },
      "text/plain": [
       "Canvas(toolbar=Toolbar(toolitems=[('Home', 'Reset original view', 'home', 'home'), ('Back', 'Back to previous …"
      ]
     },
     "metadata": {},
     "output_type": "display_data"
    }
   ],
   "source": [
    "########################    Normal Distribution ##################\n",
    "Sum=0\n",
    "Unif=[]\n",
    "def f(x,y,z):\n",
    "    return ((x*y*z)**2)*np.exp(2*(x+y+z))\n",
    "for i in range(len(F_list)):\n",
    "    x=np.random.uniform()\n",
    "    y=np.random.uniform()\n",
    "    z=np.random.uniform()\n",
    "    Integral=f(x,y,z)\n",
    "    Sum+= Integral\n",
    "    I=Sum/i\n",
    "    Unif.append(I)\n",
    "    \n",
    "%matplotlib ipympl\n",
    "plt.plot(N,Unif,color='b',label=\"Uniform\")\n",
    "plt.plot(N,F_list,color='r',label=\"metropolis sampling\")               ## See the integral converging\n",
    "plt.axhline(y =4.07502, color = 'g', linestyle = '-',label='Actual Integral')\n",
    "plt.xlabel(\"Number of iterations\")\n",
    "plt.ylabel(\"Integral Estimate\")\n",
    "plt.legend()\n",
    "plt.show()"
   ]
  },
  {
   "cell_type": "code",
   "execution_count": null,
   "metadata": {},
   "outputs": [],
   "source": []
  },
  {
   "cell_type": "code",
   "execution_count": null,
   "metadata": {},
   "outputs": [],
   "source": []
  },
  {
   "cell_type": "code",
   "execution_count": null,
   "metadata": {},
   "outputs": [],
   "source": []
  }
 ],
 "metadata": {
  "kernelspec": {
   "display_name": "Python 3",
   "language": "python",
   "name": "python3"
  },
  "language_info": {
   "codemirror_mode": {
    "name": "ipython",
    "version": 3
   },
   "file_extension": ".py",
   "mimetype": "text/x-python",
   "name": "python",
   "nbconvert_exporter": "python",
   "pygments_lexer": "ipython3",
   "version": "3.7.0"
  }
 },
 "nbformat": 4,
 "nbformat_minor": 4
}
