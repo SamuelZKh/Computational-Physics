{
 "cells": [
  {
   "cell_type": "code",
   "execution_count": 1,
   "metadata": {},
   "outputs": [
    {
     "name": "stdout",
     "output_type": "stream",
     "text": [
      "0.012296641624379365\n",
      "3.5\n"
     ]
    },
    {
     "data": {
      "application/vnd.jupyter.widget-view+json": {
       "model_id": "c0c1c987c6ef4c459323756aeb75f4a3",
       "version_major": 2,
       "version_minor": 0
      },
      "text/plain": [
       "Canvas(toolbar=Toolbar(toolitems=[('Home', 'Reset original view', 'home', 'home'), ('Back', 'Back to previous …"
      ]
     },
     "metadata": {},
     "output_type": "display_data"
    },
    {
     "data": {
      "text/plain": [
       "[<matplotlib.lines.Line2D at 0x21c344d7f28>]"
      ]
     },
     "execution_count": 1,
     "metadata": {},
     "output_type": "execute_result"
    }
   ],
   "source": [
    "from numpy import *\n",
    "from matplotlib import pyplot as plt\n",
    "%matplotlib ipympl\n",
    "a=1\n",
    "xmax=5\n",
    "xmin=-5\n",
    "N=1000\n",
    "dx=(xmax-xmin)/N\n",
    "\n",
    "hbar=6.58*(10)**(-16)\n",
    "m=9.1*(10)**(-31)\n",
    "\n",
    "N1=750\n",
    "N2=250\n",
    "\n",
    "\n",
    "x=linspace(xmin,xmax,N)\n",
    "\n",
    "\n",
    "def V(x):\n",
    "    return x**2\n",
    "\n",
    "potential =([V(i) for i in x]) # Values of U(y) stored at lattice points\n",
    "#plt.plot(x,potential)    \n",
    "\n",
    "\n",
    "\n",
    "\n",
    "\n",
    "###############\n",
    "\n",
    "def numerov(psi0,k,N):     ### returns the numerov soln for a value of k\n",
    "    \n",
    "    Psi1=[psi0,0.1]\n",
    "    y=([(1+(dx**2/12)*k[n]) for n in range(0,N)]) ### use this for simplification\n",
    "    for i in range(1,N-1):\n",
    "        psin1=((Psi1[i]*(12-10*y[i])-Psi1[i-1]*y[i-1])/y[i+1])  ## the main algorythm\n",
    "        Psi1.append(psin1)\n",
    "    return Psi1\n",
    "\n",
    "\n",
    "\n",
    "def f(E):\n",
    "    x1=linspace(xmin,sqrt(E),N1) ### defines lattice upto xl(classically allowed)\n",
    "    x2=linspace(xmax,sqrt(E),N2)  ## defines the rest of the lattice(classically not allowed region)\n",
    "    k1=([(E-V(j)) for j in x1])\n",
    "    k2=([(E-V(j)) for j in x2])\n",
    "    psin1=numerov(0,k1,N1)\n",
    "    psin2=numerov(0,k2,N2)\n",
    "    c=psin1[len(psin1)-1]/psin2[len(psin2)-1]   #### make the function equal at the boundaries by multiplin psil with c\n",
    "    cpsin=([(c*psin2[i]) for i in range(0,len(psin2))]) ## new psil\n",
    "    \n",
    "    dPsi=(psin1[len(psin1)-2]-cpsin[len(psin2)-2])/psin1[len(psin1)-1]  ##### the energy(defference in \n",
    "                                                                             ##  derivatives on the wavefunction)\n",
    "    return dPsi\n",
    "    \n",
    "\n",
    "test=f(0.5)\n",
    "print(test)\n",
    "def bisection(E0,E1,e):      #### BISECTION ALGORYTHM #####\n",
    "    step = 1\n",
    "    \n",
    "    condition = True\n",
    "    while condition:\n",
    "        E2 = (E0 + E1)/2\n",
    "        \n",
    "        if f(E0) * f(E2) < 0:\n",
    "            E1 = E2\n",
    "        else:\n",
    "            E0 = E2\n",
    "        \n",
    "        step = step + 1\n",
    "        condition = abs(f(E2)) > e\n",
    "    \n",
    "    return E2\n",
    "   \n",
    "\n",
    "Energy=bisection(2,5,0.02)   ########  set values of required energy region here\n",
    "print(Energy)    \n",
    "    \n",
    "\n",
    "Epl=([Energy for i in x])\n",
    "plt.plot(x,Epl)\n",
    "\n",
    "plt.axvline(sqrt(Energy)) \n",
    "plt.axvline(-sqrt(Energy))\n",
    "    \n",
    "\n",
    "x1=linspace(xmin,sqrt(Energy),N1) \n",
    "x2=linspace(xmax,sqrt(Energy),N2)\n",
    "k1=([(Energy-V(j)) for j in x1])\n",
    "k2=([(Energy-V(j)) for j in x2])\n",
    "psin1=numerov(0,k1,N1)\n",
    "psin2=numerov(0,k2,N2)\n",
    "\n",
    "c=psin1[len(psin1)-1]/psin2[len(psin2)-1]\n",
    "cpsin=([(c*psin2[i]) for i in range(0,len(psin2))])\n",
    "plt.plot(x1,psin1)\n",
    "plt.plot(x2,cpsin)\n",
    "    \n",
    "    \n",
    "   \n",
    "\n",
    "\n",
    "    \n"
   ]
  },
  {
   "cell_type": "code",
   "execution_count": null,
   "metadata": {},
   "outputs": [],
   "source": []
  }
 ],
 "metadata": {
  "kernelspec": {
   "display_name": "Python 3",
   "language": "python",
   "name": "python3"
  },
  "language_info": {
   "codemirror_mode": {
    "name": "ipython",
    "version": 3
   },
   "file_extension": ".py",
   "mimetype": "text/x-python",
   "name": "python",
   "nbconvert_exporter": "python",
   "pygments_lexer": "ipython3",
   "version": "3.7.0"
  }
 },
 "nbformat": 4,
 "nbformat_minor": 4
}
