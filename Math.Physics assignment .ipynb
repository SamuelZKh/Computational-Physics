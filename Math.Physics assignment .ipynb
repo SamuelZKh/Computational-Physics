{
 "cells": [
  {
   "cell_type": "markdown",
   "metadata": {},
   "source": [
    "## x'=y\n",
    "## y'=-25x+8y (u=-8)\n"
   ]
  },
  {
   "cell_type": "code",
   "execution_count": 4,
   "metadata": {},
   "outputs": [
    {
     "data": {
      "application/vnd.jupyter.widget-view+json": {
       "model_id": "92c2d778521d4105b743d7cab6e96aed",
       "version_major": 2,
       "version_minor": 0
      },
      "text/plain": [
       "Canvas(toolbar=Toolbar(toolitems=[('Home', 'Reset original view', 'home', 'home'), ('Back', 'Back to previous …"
      ]
     },
     "metadata": {},
     "output_type": "display_data"
    },
    {
     "data": {
      "text/plain": [
       "(-500.0, 500.0)"
      ]
     },
     "execution_count": 4,
     "metadata": {},
     "output_type": "execute_result"
    }
   ],
   "source": [
    "import numpy as np\n",
    "import matplotlib.pyplot as plt\n",
    "from scipy.integrate import odeint\n",
    "%matplotlib ipympl\n",
    "\n",
    "x = np.linspace(-500.0, 500.0, 20)\n",
    "y = np.linspace(-500.0, 500.0, 20)\n",
    "\n",
    "a1=0\n",
    "a2=1\n",
    "a3=-25\n",
    "a4=8\n",
    "def f(Y, t):\n",
    "    x, y = Y\n",
    "    dx=a1*x+a2*y\n",
    "    dy=a3*x+a4*y\n",
    "    return [dx,dy]\n",
    "\n",
    "X, Y = np.meshgrid(x, y)\n",
    "t = 0\n",
    "u, v = np.zeros(X.shape), np.zeros(Y.shape)\n",
    "I, J = X.shape\n",
    "for i in range(I):\n",
    "    for j in range(J):\n",
    "        x = X[i, j]\n",
    "        y = Y[i, j]\n",
    "        field = f([x, y], t)\n",
    "        u[i,j] = field[0]\n",
    "        v[i,j] = field[1]\n",
    "     \n",
    "\n",
    "Q = plt.quiver(X, Y, u, v, color='b')\n",
    "xi=[0,2,-6,10,-15,18]\n",
    "yi=[1,-2,17,5,-9,9,11]\n",
    "for i in range(0,len(xi)):\n",
    "    tspan = np.linspace(0,100, 1000)\n",
    "    y0 = [yi[i], xi[i]]\n",
    "    ys = odeint(f, y0, tspan)\n",
    "    plt.plot(ys[:,0], ys[:,1], 'g') # path\n",
    "    plt.plot([ys[0,0]], [ys[0,1]], 'o') # start\n",
    "    \n",
    "   \n",
    "    \n",
    "plt.xlabel('$x$')\n",
    "plt.ylabel('$y$')\n",
    "plt.xlim([-500, 500])\n",
    "plt.ylim([-500,500])\n"
   ]
  },
  {
   "cell_type": "markdown",
   "metadata": {},
   "source": [
    "## x'=y\n",
    "## y'=-25x    (u=0)\n"
   ]
  },
  {
   "cell_type": "code",
   "execution_count": 5,
   "metadata": {},
   "outputs": [
    {
     "data": {
      "application/vnd.jupyter.widget-view+json": {
       "model_id": "d971493a866c46feb4a5c1fd0f4fe682",
       "version_major": 2,
       "version_minor": 0
      },
      "text/plain": [
       "Canvas(toolbar=Toolbar(toolitems=[('Home', 'Reset original view', 'home', 'home'), ('Back', 'Back to previous …"
      ]
     },
     "metadata": {},
     "output_type": "display_data"
    },
    {
     "data": {
      "text/plain": [
       "(-20.0, 20.0)"
      ]
     },
     "execution_count": 5,
     "metadata": {},
     "output_type": "execute_result"
    }
   ],
   "source": [
    "\n",
    "%matplotlib ipympl\n",
    "\n",
    "x = np.linspace(-20.0, 20.0, 20)\n",
    "y = np.linspace(-20.0, 20.0, 20)\n",
    "\n",
    "a1=0\n",
    "a2=1\n",
    "a3=-25\n",
    "a4=0\n",
    "def f(Y, t):\n",
    "    x, y = Y\n",
    "    dx=a1*x+a2*y\n",
    "    dy=a3*x+a4*y\n",
    "    return [dx,dy]\n",
    "X, Y = np.meshgrid(x, y)\n",
    "t = 0\n",
    "u, v = np.zeros(X.shape), np.zeros(Y.shape)\n",
    "I, J = X.shape\n",
    "for i in range(I):\n",
    "    for j in range(J):\n",
    "        x = X[i, j]\n",
    "        y = Y[i, j]\n",
    "        field = f([x, y], t)\n",
    "        u[i,j] = field[0]\n",
    "        v[i,j] = field[1]\n",
    "Q = plt.quiver(X, Y, u, v, color='b')\n",
    "xi=[0,-0.1,7,10,-10,3,8]\n",
    "yi=[0.1,0,-5,-5,5,-2,-2.5]\n",
    "for i in range(0,len(xi)):\n",
    "    tspan = np.linspace(0,100, 1000)\n",
    "    y0 = [yi[i], xi[i]]\n",
    "    ys = odeint(f, y0, tspan)\n",
    "    plt.plot(ys[:,0], ys[:,1], 'g') # path\n",
    "    plt.plot([ys[0,0]], [ys[0,1]], 'o') # start\n",
    "    \n",
    "   \n",
    "    \n",
    "plt.xlabel('$x$')\n",
    "plt.ylabel('$y$')\n",
    "plt.xlim([-20, 20])\n",
    "plt.ylim([-20,20])\n"
   ]
  },
  {
   "cell_type": "markdown",
   "metadata": {},
   "source": [
    "## x'=y\n",
    "## y'=-25x    (u=26)\n"
   ]
  },
  {
   "cell_type": "code",
   "execution_count": 11,
   "metadata": {},
   "outputs": [
    {
     "data": {
      "application/vnd.jupyter.widget-view+json": {
       "model_id": "dbe2e8516ffe420d9b2e76176d09eea7",
       "version_major": 2,
       "version_minor": 0
      },
      "text/plain": [
       "Canvas(toolbar=Toolbar(toolitems=[('Home', 'Reset original view', 'home', 'home'), ('Back', 'Back to previous …"
      ]
     },
     "metadata": {},
     "output_type": "display_data"
    },
    {
     "data": {
      "text/plain": [
       "(-20.0, 20.0)"
      ]
     },
     "execution_count": 11,
     "metadata": {},
     "output_type": "execute_result"
    }
   ],
   "source": [
    "%matplotlib ipympl\n",
    "\n",
    "x = np.linspace(-20.0, 20.0, 20)\n",
    "y = np.linspace(-20.0, 20.0, 20)\n",
    "\n",
    "a1=0\n",
    "a2=1\n",
    "a3=-25\n",
    "a4=-26\n",
    "def f(Y, t):\n",
    "    x, y = Y\n",
    "    dx=a1*x+a2*y\n",
    "    dy=a3*x+a4*y\n",
    "    return [dx,dy]\n",
    "X, Y = np.meshgrid(x, y)\n",
    "t = 0\n",
    "u, v = np.zeros(X.shape), np.zeros(Y.shape)\n",
    "I, J = X.shape\n",
    "for i in range(I):\n",
    "    for j in range(J):\n",
    "        x = X[i, j]\n",
    "        y = Y[i, j]\n",
    "        field = f([x, y], t)\n",
    "        u[i,j] = field[0]\n",
    "        v[i,j] = field[1]\n",
    "Q = plt.quiver(X, Y, u, v, color='b')\n",
    "xi=[-19,19,15]\n",
    "yi=[-19,19,-5]\n",
    "for i in range(0,len(xi)):\n",
    "    tspan = np.linspace(0,100, 1000)\n",
    "    y0 = [yi[i], xi[i]]\n",
    "    ys = odeint(f, y0, tspan)\n",
    "    plt.plot(ys[:,0], ys[:,1], 'g') # path\n",
    "    plt.plot([ys[0,0]], [ys[0,1]], 'o') # start\n",
    "    \n",
    "   \n",
    "    \n",
    "plt.xlabel('$x$')\n",
    "plt.ylabel('$y$')\n",
    "plt.xlim([-20, 20])\n",
    "plt.ylim([-20,20])"
   ]
  },
  {
   "cell_type": "markdown",
   "metadata": {},
   "source": [
    "## Q2.  x'=y\n",
    "##         y'=-x+x**3(-a+x)y\n",
    "##  a<0"
   ]
  },
  {
   "cell_type": "code",
   "execution_count": 23,
   "metadata": {},
   "outputs": [
    {
     "data": {
      "application/vnd.jupyter.widget-view+json": {
       "model_id": "8ff53ef272984945b4525dc610589827",
       "version_major": 2,
       "version_minor": 0
      },
      "text/plain": [
       "Canvas(toolbar=Toolbar(toolitems=[('Home', 'Reset original view', 'home', 'home'), ('Back', 'Back to previous …"
      ]
     },
     "metadata": {},
     "output_type": "display_data"
    },
    {
     "name": "stderr",
     "output_type": "stream",
     "text": [
      "c:\\users\\dell\\appdata\\local\\programs\\python\\python37\\lib\\site-packages\\scipy\\integrate\\odepack.py:247: ODEintWarning: Excess work done on this call (perhaps wrong Dfun type). Run with full_output = 1 to get quantitative information.\n",
      "  warnings.warn(warning_msg, ODEintWarning)\n",
      "c:\\users\\dell\\appdata\\local\\programs\\python\\python37\\lib\\site-packages\\scipy\\integrate\\odepack.py:247: ODEintWarning: Excess work done on this call (perhaps wrong Dfun type). Run with full_output = 1 to get quantitative information.\n",
      "  warnings.warn(warning_msg, ODEintWarning)\n",
      "c:\\users\\dell\\appdata\\local\\programs\\python\\python37\\lib\\site-packages\\scipy\\integrate\\odepack.py:247: ODEintWarning: Excess work done on this call (perhaps wrong Dfun type). Run with full_output = 1 to get quantitative information.\n",
      "  warnings.warn(warning_msg, ODEintWarning)\n",
      "c:\\users\\dell\\appdata\\local\\programs\\python\\python37\\lib\\site-packages\\scipy\\integrate\\odepack.py:247: ODEintWarning: Excess work done on this call (perhaps wrong Dfun type). Run with full_output = 1 to get quantitative information.\n",
      "  warnings.warn(warning_msg, ODEintWarning)\n"
     ]
    },
    {
     "data": {
      "text/plain": [
       "(-2.0, 2.0)"
      ]
     },
     "execution_count": 23,
     "metadata": {},
     "output_type": "execute_result"
    }
   ],
   "source": [
    "%matplotlib ipympl\n",
    "n=2\n",
    "x = np.linspace(-n,n, 20)\n",
    "y = np.linspace(-n,n, 20)\n",
    "a0=-1\n",
    "def f(Y, t):\n",
    "    x, y = Y\n",
    "    dx=y\n",
    "    dy=-x+x**3-(a0+x)*y\n",
    "    return [dx,dy]\n",
    "X, Y = np.meshgrid(x, y)\n",
    "t = 0\n",
    "u, v = np.zeros(X.shape), np.zeros(Y.shape)\n",
    "I, J = X.shape\n",
    "for i in range(I):\n",
    "    for j in range(J):\n",
    "        x = X[i, j]\n",
    "        y = Y[i, j]\n",
    "        field = f([x, y], t)\n",
    "        u[i,j] = field[0]\n",
    "        v[i,j] = field[1]\n",
    "Q = plt.quiver(X, Y, u, v, color='b')\n",
    "xi=[0,0.1,0.1,1,0.5]\n",
    "yi=[0,0.1,-0.1,-1.5,-0.25]\n",
    "for i in range(0,len(xi)):\n",
    "    tspan = np.linspace(0,100, 1000)\n",
    "    y0 = [yi[i], xi[i]]\n",
    "    ys = odeint(f, y0, tspan)\n",
    "    plt.plot(ys[:,0], ys[:,1], 'g') # path\n",
    "    plt.plot([ys[0,0]], [ys[0,1]], 'o') # start\n",
    "    \n",
    "   \n",
    "    \n",
    "plt.xlabel('$x$')\n",
    "plt.ylabel('$y$')\n",
    "plt.xlim([-n, n])\n",
    "plt.ylim([-n,n])"
   ]
  },
  {
   "cell_type": "markdown",
   "metadata": {},
   "source": [
    "## Q2.  x'=y\n",
    "##         y'=-x+x**3(-a+x)y\n",
    "##  a>0"
   ]
  },
  {
   "cell_type": "code",
   "execution_count": 24,
   "metadata": {},
   "outputs": [
    {
     "data": {
      "application/vnd.jupyter.widget-view+json": {
       "model_id": "125721264edb400c993189cf4efce28a",
       "version_major": 2,
       "version_minor": 0
      },
      "text/plain": [
       "Canvas(toolbar=Toolbar(toolitems=[('Home', 'Reset original view', 'home', 'home'), ('Back', 'Back to previous …"
      ]
     },
     "metadata": {},
     "output_type": "display_data"
    },
    {
     "name": "stderr",
     "output_type": "stream",
     "text": [
      "c:\\users\\dell\\appdata\\local\\programs\\python\\python37\\lib\\site-packages\\scipy\\integrate\\odepack.py:247: ODEintWarning: Excess work done on this call (perhaps wrong Dfun type). Run with full_output = 1 to get quantitative information.\n",
      "  warnings.warn(warning_msg, ODEintWarning)\n"
     ]
    },
    {
     "data": {
      "text/plain": [
       "(-2.0, 2.0)"
      ]
     },
     "execution_count": 24,
     "metadata": {},
     "output_type": "execute_result"
    }
   ],
   "source": [
    "import numpy as np\n",
    "import matplotlib.pyplot as plt\n",
    "from scipy.integrate import odeint\n",
    "%matplotlib ipympl\n",
    "n=2\n",
    "x = np.linspace(-n,n, 20)\n",
    "y = np.linspace(-n,n, 20)\n",
    "a0=1\n",
    "def f(Y, t):\n",
    "    x, y = Y\n",
    "    dx=y\n",
    "    dy=-x+x**3-(a0+x)*y\n",
    "    return [dx,dy]\n",
    "X, Y = np.meshgrid(x, y)\n",
    "t = 0\n",
    "u, v = np.zeros(X.shape), np.zeros(Y.shape)\n",
    "I, J = X.shape\n",
    "for i in range(I):\n",
    "    for j in range(J):\n",
    "        x = X[i, j]\n",
    "        y = Y[i, j]\n",
    "        field = f([x, y], t)\n",
    "        u[i,j] = field[0]\n",
    "        v[i,j] = field[1]\n",
    "Q = plt.quiver(X, Y, u, v, color='b')\n",
    "xi=[0,0.1,0.1,1.5,1.5,0.5]\n",
    "yi=[0,0.1,-0.1,-1.5,0.5,-1]\n",
    "for i in range(0,len(xi)):\n",
    "    tspan = np.linspace(0,100, 1000)\n",
    "    y0 = [yi[i], xi[i]]\n",
    "    ys = odeint(f, y0, tspan)\n",
    "    plt.plot(ys[:,0], ys[:,1], 'g') # path\n",
    "    plt.plot([ys[0,0]], [ys[0,1]], 'o') # start\n",
    "    \n",
    "   \n",
    "    \n",
    "plt.xlabel('$x$')\n",
    "plt.ylabel('$y$')\n",
    "plt.xlim([-n, n])\n",
    "plt.ylim([-n,n])"
   ]
  },
  {
   "cell_type": "markdown",
   "metadata": {},
   "source": [
    "## Q3\n"
   ]
  },
  {
   "cell_type": "code",
   "execution_count": 22,
   "metadata": {},
   "outputs": [
    {
     "data": {
      "application/vnd.jupyter.widget-view+json": {
       "model_id": "f7d110206414401fab7dd41382e3ce65",
       "version_major": 2,
       "version_minor": 0
      },
      "text/plain": [
       "Canvas(toolbar=Toolbar(toolitems=[('Home', 'Reset original view', 'home', 'home'), ('Back', 'Back to previous …"
      ]
     },
     "metadata": {},
     "output_type": "display_data"
    },
    {
     "name": "stderr",
     "output_type": "stream",
     "text": [
      "c:\\users\\dell\\appdata\\local\\programs\\python\\python37\\lib\\site-packages\\scipy\\integrate\\odepack.py:247: ODEintWarning: Excess work done on this call (perhaps wrong Dfun type). Run with full_output = 1 to get quantitative information.\n",
      "  warnings.warn(warning_msg, ODEintWarning)\n",
      "c:\\users\\dell\\appdata\\local\\programs\\python\\python37\\lib\\site-packages\\scipy\\integrate\\odepack.py:247: ODEintWarning: Excess work done on this call (perhaps wrong Dfun type). Run with full_output = 1 to get quantitative information.\n",
      "  warnings.warn(warning_msg, ODEintWarning)\n",
      "c:\\users\\dell\\appdata\\local\\programs\\python\\python37\\lib\\site-packages\\scipy\\integrate\\odepack.py:247: ODEintWarning: Excess work done on this call (perhaps wrong Dfun type). Run with full_output = 1 to get quantitative information.\n",
      "  warnings.warn(warning_msg, ODEintWarning)\n",
      "c:\\users\\dell\\appdata\\local\\programs\\python\\python37\\lib\\site-packages\\scipy\\integrate\\odepack.py:247: ODEintWarning: Excess work done on this call (perhaps wrong Dfun type). Run with full_output = 1 to get quantitative information.\n",
      "  warnings.warn(warning_msg, ODEintWarning)\n",
      "c:\\users\\dell\\appdata\\local\\programs\\python\\python37\\lib\\site-packages\\scipy\\integrate\\odepack.py:247: ODEintWarning: Excess work done on this call (perhaps wrong Dfun type). Run with full_output = 1 to get quantitative information.\n",
      "  warnings.warn(warning_msg, ODEintWarning)\n",
      "c:\\users\\dell\\appdata\\local\\programs\\python\\python37\\lib\\site-packages\\scipy\\integrate\\odepack.py:247: ODEintWarning: Excess work done on this call (perhaps wrong Dfun type). Run with full_output = 1 to get quantitative information.\n",
      "  warnings.warn(warning_msg, ODEintWarning)\n"
     ]
    },
    {
     "data": {
      "text/plain": [
       "(-3.0, 3.0)"
      ]
     },
     "execution_count": 22,
     "metadata": {},
     "output_type": "execute_result"
    }
   ],
   "source": [
    "import numpy as np\n",
    "import matplotlib.pyplot as plt\n",
    "from scipy.integrate import odeint\n",
    "%matplotlib ipympl\n",
    "n=3\n",
    "x = np.linspace(-n,n, 20)\n",
    "y = np.linspace(-n,n, 20)\n",
    "a0=-1\n",
    "def f(Y, t):\n",
    "    x, y = Y\n",
    "    dx=x*(1-0.5*x-y)\n",
    "    dy=y*(x-1-0.5*y)\n",
    "    return [dx,dy]\n",
    "X, Y = np.meshgrid(x, y)\n",
    "t = 0\n",
    "u, v = np.zeros(X.shape), np.zeros(Y.shape)\n",
    "I, J = X.shape\n",
    "for i in range(I):\n",
    "    for j in range(J):\n",
    "        x = X[i, j]\n",
    "        y = Y[i, j]\n",
    "        field = f([x, y], t)\n",
    "        u[i,j] = field[0]\n",
    "        v[i,j] = field[1]\n",
    "Q = plt.quiver(X, Y, u, v, color='b')\n",
    "xi=[0,-2,0,1,-2,2,-2,-2,1,2,-0.5,-0.1]\n",
    "yi=[0,0,2,1,2,-2,0.5,-0.5,2.2,1.5,1.5,1.9]\n",
    "for i in range(0,len(xi)):\n",
    "    tspan = np.linspace(0,100, 1000)\n",
    "    y0 = [yi[i], xi[i]]\n",
    "    ys = odeint(f, y0, tspan)\n",
    "    plt.plot(ys[:,0], ys[:,1], 'g') # path\n",
    "    plt.plot([ys[0,0]], [ys[0,1]], 'o') # start\n",
    "    \n",
    "   \n",
    "    \n",
    "plt.xlabel('$x$')\n",
    "plt.ylabel('$y$')\n",
    "plt.xlim([-n, n])\n",
    "plt.ylim([-n,n])"
   ]
  },
  {
   "cell_type": "code",
   "execution_count": null,
   "metadata": {},
   "outputs": [],
   "source": []
  }
 ],
 "metadata": {
  "kernelspec": {
   "display_name": "Python 3",
   "language": "python",
   "name": "python3"
  },
  "language_info": {
   "codemirror_mode": {
    "name": "ipython",
    "version": 3
   },
   "file_extension": ".py",
   "mimetype": "text/x-python",
   "name": "python",
   "nbconvert_exporter": "python",
   "pygments_lexer": "ipython3",
   "version": "3.7.0"
  }
 },
 "nbformat": 4,
 "nbformat_minor": 4
}
